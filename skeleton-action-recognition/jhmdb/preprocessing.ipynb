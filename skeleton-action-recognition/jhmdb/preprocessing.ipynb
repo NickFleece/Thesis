{
 "cells": [
  {
   "cell_type": "code",
   "execution_count": 2,
   "metadata": {},
   "outputs": [],
   "source": [
    "import os\n",
    "import scipy.io\n",
    "import numpy as np\n",
    "import matplotlib.pyplot as plt\n",
    "import math\n",
    "import json\n",
    "from tqdm.notebook import tqdm\n",
    "import glob"
   ]
  },
  {
   "attachments": {},
   "cell_type": "markdown",
   "metadata": {},
   "source": [
    "# Default JHMDB"
   ]
  },
  {
   "cell_type": "code",
   "execution_count": 19,
   "metadata": {},
   "outputs": [],
   "source": [
    "BONE_CONNECTIONS = [\n",
    "\n",
    "    # Face - Neck - Shoulder\n",
    "    [2,0,3],\n",
    "    [2,0,4],\n",
    "\n",
    "    # Elbow - Shoulder - Shoulder\n",
    "    [7,3,4],\n",
    "    [8,4,3],\n",
    "\n",
    "    #elbow - shoulder - hip\n",
    "    [7,3,5],\n",
    "    [8,4,6],\n",
    "\n",
    "    #wrist - elbow - shoulder\n",
    "    [11,7,3],\n",
    "    [12,8,4],\n",
    "\n",
    "    #shoulder - hip - knee\n",
    "    [3,5,9],\n",
    "    [4,6,10],\n",
    "\n",
    "    #hip - knee - ankle\n",
    "    [5,9,13],\n",
    "    [6,10,14],\n",
    "]"
   ]
  },
  {
   "cell_type": "code",
   "execution_count": 20,
   "metadata": {},
   "outputs": [],
   "source": [
    "# # ALL POSSIBLE BONE CONNECTIONS\n",
    "# ALL_POSSIBLE_BONE_CONNECTIONS = []\n",
    "# for b in BONE_CONNECTIONS: ALL_POSSIBLE_BONE_CONNECTIONS.append(b)\n",
    "# for i in range(0,15):\n",
    "#     for j in range(i+1,15):\n",
    "#         for k in range(0,15):\n",
    "\n",
    "#             if k == j or k == i: continue\n",
    "\n",
    "#             found_match = False\n",
    "#             for b in ALL_POSSIBLE_BONE_CONNECTIONS:\n",
    "#                 if i in b and j in b and k in b:\n",
    "#                     found_match = True\n",
    "#                     break\n",
    "            \n",
    "#             if not found_match:\n",
    "#                 ALL_POSSIBLE_BONE_CONNECTIONS.append([i,k,j])\n",
    "\n",
    "# ALL_POSSIBLE_BONE_CONNECTIONS"
   ]
  },
  {
   "cell_type": "code",
   "execution_count": 21,
   "metadata": {},
   "outputs": [
    {
     "name": "stdout",
     "output_type": "stream",
     "text": [
      "['clap', 'swing_baseball', 'pour', 'run', 'wave', 'shoot_gun', 'shoot_ball', 'throw', 'golf', 'brush_hair', 'shoot_bow', 'stand', 'sit', 'climb_stairs', 'jump', 'pullup', 'pick', 'kick_ball', 'walk', 'push', 'catch']\n"
     ]
    }
   ],
   "source": [
    "DRIVE_DIR = \"D:/JHMDB\"\n",
    "\n",
    "JOINT_POSITION_FOLDER = f\"{DRIVE_DIR}/joint_positions/joint_positions\"\n",
    "CLASSES = os.listdir(JOINT_POSITION_FOLDER)\n",
    "#remove some random folders\n",
    "for c in CLASSES: \n",
    "    if c[0] == \".\": CLASSES.remove(c)\n",
    "\n",
    "print(CLASSES)"
   ]
  },
  {
   "cell_type": "code",
   "execution_count": 139,
   "metadata": {},
   "outputs": [
    {
     "name": "stdout",
     "output_type": "stream",
     "text": [
      "clap\n"
     ]
    },
    {
     "data": {
      "application/vnd.jupyter.widget-view+json": {
       "model_id": "956fdc81a292489fba92c72de2844977",
       "version_major": 2,
       "version_minor": 0
      },
      "text/plain": [
       "  0%|          | 0/46 [00:00<?, ?it/s]"
      ]
     },
     "metadata": {},
     "output_type": "display_data"
    },
    {
     "name": "stdout",
     "output_type": "stream",
     "text": [
      "swing_baseball\n"
     ]
    },
    {
     "data": {
      "application/vnd.jupyter.widget-view+json": {
       "model_id": "5534d1f97dfd415a82a48c700bf425f2",
       "version_major": 2,
       "version_minor": 0
      },
      "text/plain": [
       "  0%|          | 0/55 [00:00<?, ?it/s]"
      ]
     },
     "metadata": {},
     "output_type": "display_data"
    },
    {
     "name": "stdout",
     "output_type": "stream",
     "text": [
      "pour\n"
     ]
    },
    {
     "data": {
      "application/vnd.jupyter.widget-view+json": {
       "model_id": "86ff0d8480f742a28ac497269d4801b7",
       "version_major": 2,
       "version_minor": 0
      },
      "text/plain": [
       "  0%|          | 0/56 [00:00<?, ?it/s]"
      ]
     },
     "metadata": {},
     "output_type": "display_data"
    },
    {
     "name": "stdout",
     "output_type": "stream",
     "text": [
      "run\n"
     ]
    },
    {
     "data": {
      "application/vnd.jupyter.widget-view+json": {
       "model_id": "ab0105fb83d040d2b5800aa1f489cafe",
       "version_major": 2,
       "version_minor": 0
      },
      "text/plain": [
       "  0%|          | 0/41 [00:00<?, ?it/s]"
      ]
     },
     "metadata": {},
     "output_type": "display_data"
    },
    {
     "name": "stdout",
     "output_type": "stream",
     "text": [
      "wave\n"
     ]
    },
    {
     "data": {
      "application/vnd.jupyter.widget-view+json": {
       "model_id": "a26495254c9e44089cf98012c951de17",
       "version_major": 2,
       "version_minor": 0
      },
      "text/plain": [
       "  0%|          | 0/43 [00:00<?, ?it/s]"
      ]
     },
     "metadata": {},
     "output_type": "display_data"
    },
    {
     "name": "stdout",
     "output_type": "stream",
     "text": [
      "shoot_gun\n"
     ]
    },
    {
     "data": {
      "application/vnd.jupyter.widget-view+json": {
       "model_id": "a3e9ca3767304de787cbc3172ff8876a",
       "version_major": 2,
       "version_minor": 0
      },
      "text/plain": [
       "  0%|          | 0/56 [00:00<?, ?it/s]"
      ]
     },
     "metadata": {},
     "output_type": "display_data"
    },
    {
     "name": "stdout",
     "output_type": "stream",
     "text": [
      "shoot_ball\n"
     ]
    },
    {
     "data": {
      "application/vnd.jupyter.widget-view+json": {
       "model_id": "2ef68c2699fd44e2ad2c3f68bbc4caf4",
       "version_major": 2,
       "version_minor": 0
      },
      "text/plain": [
       "  0%|          | 0/41 [00:00<?, ?it/s]"
      ]
     },
     "metadata": {},
     "output_type": "display_data"
    },
    {
     "name": "stdout",
     "output_type": "stream",
     "text": [
      "throw\n"
     ]
    },
    {
     "data": {
      "application/vnd.jupyter.widget-view+json": {
       "model_id": "4045fe6a33b042e0bc59a72f1731db2e",
       "version_major": 2,
       "version_minor": 0
      },
      "text/plain": [
       "  0%|          | 0/47 [00:00<?, ?it/s]"
      ]
     },
     "metadata": {},
     "output_type": "display_data"
    },
    {
     "name": "stdout",
     "output_type": "stream",
     "text": [
      "golf\n"
     ]
    },
    {
     "data": {
      "application/vnd.jupyter.widget-view+json": {
       "model_id": "2db0f11d818e4d77bc88720ea7e73261",
       "version_major": 2,
       "version_minor": 0
      },
      "text/plain": [
       "  0%|          | 0/43 [00:00<?, ?it/s]"
      ]
     },
     "metadata": {},
     "output_type": "display_data"
    },
    {
     "name": "stdout",
     "output_type": "stream",
     "text": [
      "brush_hair\n"
     ]
    },
    {
     "data": {
      "application/vnd.jupyter.widget-view+json": {
       "model_id": "c456beb45ff44a5692a0b621f6e05313",
       "version_major": 2,
       "version_minor": 0
      },
      "text/plain": [
       "  0%|          | 0/42 [00:00<?, ?it/s]"
      ]
     },
     "metadata": {},
     "output_type": "display_data"
    },
    {
     "name": "stdout",
     "output_type": "stream",
     "text": [
      "shoot_bow\n"
     ]
    },
    {
     "data": {
      "application/vnd.jupyter.widget-view+json": {
       "model_id": "8cd71834510d4146afb5f0c94d980f9e",
       "version_major": 2,
       "version_minor": 0
      },
      "text/plain": [
       "  0%|          | 0/54 [00:00<?, ?it/s]"
      ]
     },
     "metadata": {},
     "output_type": "display_data"
    },
    {
     "name": "stdout",
     "output_type": "stream",
     "text": [
      "stand\n"
     ]
    },
    {
     "data": {
      "application/vnd.jupyter.widget-view+json": {
       "model_id": "a1fa04f4c91140e19926536e9ad142f7",
       "version_major": 2,
       "version_minor": 0
      },
      "text/plain": [
       "  0%|          | 0/37 [00:00<?, ?it/s]"
      ]
     },
     "metadata": {},
     "output_type": "display_data"
    },
    {
     "name": "stdout",
     "output_type": "stream",
     "text": [
      "sit\n"
     ]
    },
    {
     "data": {
      "application/vnd.jupyter.widget-view+json": {
       "model_id": "99e25732551349b79f354cd2cd460803",
       "version_major": 2,
       "version_minor": 0
      },
      "text/plain": [
       "  0%|          | 0/40 [00:00<?, ?it/s]"
      ]
     },
     "metadata": {},
     "output_type": "display_data"
    },
    {
     "name": "stdout",
     "output_type": "stream",
     "text": [
      "climb_stairs\n"
     ]
    },
    {
     "data": {
      "application/vnd.jupyter.widget-view+json": {
       "model_id": "a528410bdfe14a18b859c6c4e8af8a80",
       "version_major": 2,
       "version_minor": 0
      },
      "text/plain": [
       "  0%|          | 0/41 [00:00<?, ?it/s]"
      ]
     },
     "metadata": {},
     "output_type": "display_data"
    },
    {
     "name": "stdout",
     "output_type": "stream",
     "text": [
      "jump\n"
     ]
    },
    {
     "data": {
      "application/vnd.jupyter.widget-view+json": {
       "model_id": "f1fee9f6c99f4a3abd0d11d20fe9a7d0",
       "version_major": 2,
       "version_minor": 0
      },
      "text/plain": [
       "  0%|          | 0/40 [00:00<?, ?it/s]"
      ]
     },
     "metadata": {},
     "output_type": "display_data"
    },
    {
     "name": "stdout",
     "output_type": "stream",
     "text": [
      "pullup\n"
     ]
    },
    {
     "data": {
      "application/vnd.jupyter.widget-view+json": {
       "model_id": "f52679be9d0b4d80ac972cfc1335cda5",
       "version_major": 2,
       "version_minor": 0
      },
      "text/plain": [
       "  0%|          | 0/56 [00:00<?, ?it/s]"
      ]
     },
     "metadata": {},
     "output_type": "display_data"
    },
    {
     "name": "stdout",
     "output_type": "stream",
     "text": [
      "pick\n"
     ]
    },
    {
     "data": {
      "application/vnd.jupyter.widget-view+json": {
       "model_id": "d1eb32d1078242e886e1ce6fb9300485",
       "version_major": 2,
       "version_minor": 0
      },
      "text/plain": [
       "  0%|          | 0/41 [00:00<?, ?it/s]"
      ]
     },
     "metadata": {},
     "output_type": "display_data"
    },
    {
     "name": "stdout",
     "output_type": "stream",
     "text": [
      "kick_ball\n"
     ]
    },
    {
     "data": {
      "application/vnd.jupyter.widget-view+json": {
       "model_id": "70287c4508ef46569c1ffb79f2fc7a46",
       "version_major": 2,
       "version_minor": 0
      },
      "text/plain": [
       "  0%|          | 0/38 [00:00<?, ?it/s]"
      ]
     },
     "metadata": {},
     "output_type": "display_data"
    },
    {
     "name": "stdout",
     "output_type": "stream",
     "text": [
      "walk\n"
     ]
    },
    {
     "data": {
      "application/vnd.jupyter.widget-view+json": {
       "model_id": "f941ca0fdf1a4f90af2e38bfaa056779",
       "version_major": 2,
       "version_minor": 0
      },
      "text/plain": [
       "  0%|          | 0/42 [00:00<?, ?it/s]"
      ]
     },
     "metadata": {},
     "output_type": "display_data"
    },
    {
     "name": "stdout",
     "output_type": "stream",
     "text": [
      "push\n"
     ]
    },
    {
     "data": {
      "application/vnd.jupyter.widget-view+json": {
       "model_id": "a549e3e0cd7e4abfafc75ae1ed759cb8",
       "version_major": 2,
       "version_minor": 0
      },
      "text/plain": [
       "  0%|          | 0/43 [00:00<?, ?it/s]"
      ]
     },
     "metadata": {},
     "output_type": "display_data"
    },
    {
     "name": "stdout",
     "output_type": "stream",
     "text": [
      "catch\n"
     ]
    },
    {
     "data": {
      "application/vnd.jupyter.widget-view+json": {
       "model_id": "a9bf6fc6a05b46aba710506b4bef2306",
       "version_major": 2,
       "version_minor": 0
      },
      "text/plain": [
       "  0%|          | 0/49 [00:00<?, ?it/s]"
      ]
     },
     "metadata": {},
     "output_type": "display_data"
    }
   ],
   "source": [
    "for c in CLASSES:\n",
    "\n",
    "    print(c)\n",
    "\n",
    "    if not os.path.exists(f\"{DRIVE_DIR}/processed_joints_only_angle/{c}\"):\n",
    "        os.mkdir(f\"{DRIVE_DIR}/processed_joints_only_angle/{c}\")\n",
    "\n",
    "    for i in tqdm(os.listdir(f\"{JOINT_POSITION_FOLDER}/{c}\")):\n",
    "        # print(i)\n",
    "        if i[0] == \".\": continue\n",
    "\n",
    "        joint_positions = scipy.io.loadmat(f\"{JOINT_POSITION_FOLDER}/{c}/{i}/joint_positions.mat\")['pos_img']\n",
    "        \n",
    "        # uncomment this to show some bone plots\n",
    "\n",
    "        bone_angles = []\n",
    "        for j in range(joint_positions.shape[2]):\n",
    "\n",
    "            # frame0 = f\"{DRIVE_DIR}/Rename_Images/Rename_Images/{c}/{i}/{str(j+1).zfill(5)}.png\"\n",
    "            # # plt.imshow(plt.imread(frame0))\n",
    "            # # plt.show()\n",
    "            # for z in [BONE_CONNECTIONS[6]]:\n",
    "            #     # plt.figure(figsize=(15,15))\n",
    "            #     plt.imshow(plt.imread(frame0))\n",
    "            #     # print(c)\n",
    "            #     for x in z:\n",
    "            #         plt.scatter(joint_positions[:,:,j][0][x], joint_positions[:,:,j][1][x])\n",
    "            #     plt.show()\n",
    "\n",
    "            frame_joint_positions = joint_positions[:,:,j]\n",
    "\n",
    "            # frame_joint_positions[1] = frame_joint_positions[1] * -1\n",
    "\n",
    "            one_frame_bone_angles = []\n",
    "            for bone_connection in BONE_CONNECTIONS:\n",
    "                \n",
    "                j1 = frame_joint_positions[:,bone_connection[0]]\n",
    "                j2 = frame_joint_positions[:,bone_connection[1]]\n",
    "                j3 = frame_joint_positions[:,bone_connection[2]]\n",
    "\n",
    "                bone_vector_1 = [j1[0] - j2[0], (j1[1] - j2[1])*-1]\n",
    "                bone_vector_2 = [j3[0] - j2[0], (j3[1] - j2[1])*-1]\n",
    "\n",
    "                if np.linalg.norm(bone_vector_1) == 0.0 or np.linalg.norm(bone_vector_2) == 0.0:\n",
    "                    one_frame_bone_angles.append(None)\n",
    "                    print(\"bone vector was on origin\")\n",
    "                    continue\n",
    "\n",
    "                bone_unit_vector_1 = bone_vector_1 / np.linalg.norm(bone_vector_1)\n",
    "                bone_unit_vector_2 = bone_vector_2 / np.linalg.norm(bone_vector_2)\n",
    "\n",
    "                bone_angle = math.degrees(math.atan2(bone_unit_vector_1[1], bone_unit_vector_1[0]) - math.atan2(bone_unit_vector_2[1], bone_unit_vector_2[0]))\n",
    "\n",
    "                if bone_angle < 0:\n",
    "                    bone_angle = bone_angle + 360\n",
    "\n",
    "                # print(str(j) + \" : \" + str(bone_angle))\n",
    "                # print(bone_unit_vector_1)\n",
    "                # print(bone_unit_vector_2)\n",
    "\n",
    "                one_frame_bone_angles.append(bone_angle)\n",
    "\n",
    "            bone_angles.append(one_frame_bone_angles)\n",
    "\n",
    "        bone_angles = np.asarray(bone_angles)\n",
    "\n",
    "        bone_angle_changes = []\n",
    "\n",
    "        for skip in range(1,15):\n",
    "\n",
    "            one_channel_bone_changes = []\n",
    "\n",
    "            for bone_angle_index in range(bone_angles.shape[1]):\n",
    "\n",
    "                one_bone_change = []\n",
    "\n",
    "                for f in range(0, bone_angles.shape[0]-skip, skip):\n",
    "\n",
    "                    diff = bone_angles[f, bone_angle_index] - bone_angles[f+skip, bone_angle_index]\n",
    "\n",
    "                    if diff > 180:\n",
    "                        diff = (bone_angles[f, bone_angle_index] - 360) - bone_angles[f+skip, bone_angle_index]\n",
    "                    elif diff < -180:\n",
    "                        diff = bone_angles[f, bone_angle_index] - (bone_angles[f+skip, bone_angle_index] - 360)\n",
    "\n",
    "                    one_bone_change.append(diff) #angle difference\n",
    "\n",
    "                for _ in range((bone_angles.shape[0] - len(one_bone_change)) - 1):\n",
    "                    one_bone_change.append(0)\n",
    "\n",
    "                one_channel_bone_changes.append(one_bone_change)\n",
    "\n",
    "                # Add the angles, not angle changes\n",
    "                # one_bone_change = []\n",
    "\n",
    "                # for f in range(0, bone_angles.shape[0]-skip, skip):\n",
    "\n",
    "                #     one_bone_change.append(bone_angles[f, bone_angle_index]) #angle difference\n",
    "                \n",
    "                # for _ in range((bone_angles.shape[0] - len(one_bone_change)) - 1):\n",
    "                #     one_bone_change.append(0)\n",
    "\n",
    "                # one_channel_bone_changes.append(one_bone_change)\n",
    "\n",
    "            bone_angle_changes.append(one_channel_bone_changes)\n",
    "\n",
    "        # bone_angle_changes = np.asarray(bone_angle_changes)\n",
    "\n",
    "        # print(bone_angle_changes)\n",
    "        # print(bone_angles.shape)\n",
    "        # channel_first_data = []\n",
    "        # for j in range(bone_angle_changes.shape[2]):\n",
    "        #     channel_first_data.append(bone_angle_changes[:,:,j])\n",
    "        # channel_first_data = np.asarray(channel_first_data)\n",
    "        # print(bone_angle_changes[:,0,1])\n",
    "        # print(bone_angles[:,0])\n",
    "\n",
    "        # print(channel_first_data.shape)\n",
    "        # print(channel_first_data[0].shape)\n",
    "        # print(channel_first_data[0][0])\n",
    "        # plt.imshow(bone_angle_changes[0,0])\n",
    "\n",
    "        with open(f\"{DRIVE_DIR}/processed_joints_only_angle/{c}/{i}.json\", 'w') as f:\n",
    "            json.dump(bone_angle_changes, f)"
   ]
  },
  {
   "attachments": {},
   "cell_type": "markdown",
   "metadata": {},
   "source": [
    "# Visualize"
   ]
  },
  {
   "cell_type": "code",
   "execution_count": 137,
   "metadata": {},
   "outputs": [
    {
     "name": "stdout",
     "output_type": "stream",
     "text": [
      "D:\\JHMDB\\processed_joints_new_v4/golf\\Golf_Swing_@6Iron_golf_f_cm_np1_fr_med_0.json\n",
      "[6.557673711419966, 5.3799379052669565, 3.9497580654121975, 6.304012954627183, -2.539373730290322, 6.367285303804977, 19.948151034371108, 11.712320104322089, 15.823384970212373, 0.0028690232589951847, 15.222772996080835, 5.772031161284843, -0.010126932858952387, 12.549461578518986, -0.010592836804903527, 12.638605455848932, 0.4827381533921198, 1.668583990976913e-07, -0.0003155374211587514, 2.106806456566261, -31.184103538757256, -12.12234789977316, -26.246859014272218, -20.654266965478257, -22.375014881791287, -20.7129231038204, -17.44350392726908, -7.950544790006749, -13.336640683225362, -16.428126919378983, -17.41653247041849, -37.11960486066246, -24.423033927499617, 3.1570595535470147, -1.452014600975076, -11.07388663982286, -13.277412545405667, -19.190337096514213, -8.548357580460106]\n",
      "[349.7292374421507, 343.1715637307307, 337.79162582546377, 333.84186776005157, 327.5378548054244, 330.0772285357147, 323.70994323190973, 303.7617921975386, 292.04947209321654, 276.22608712300416, 276.22321809974517, 261.00044510366433, 255.2284139423795, 255.23854087523844, 242.68907929671946, 242.69967213352436, 230.06106667767543, 229.5783285242833, 229.5783283574249, 229.57864389484607, 227.4718374382798, 258.65594097703706, 270.7782888768102, 297.02514789108244, 317.6794148565607, 340.054429738352, 0.7673528421723854, 18.210856769441467, 26.161401559448215, 39.49804224267358, 55.92616916205256, 73.34270163247105, 110.46230649313351, 134.88534042063313, 131.7282808670861, 133.1802954680612, 144.25418210788405, 157.53159465328972, 176.72193174980393]\n"
     ]
    },
    {
     "data": {
      "image/png": "[encoded data removed]",
      "text/plain": [
       "<Figure size 640x480 with 1 Axes>"
      ]
     },
     "metadata": {},
     "output_type": "display_data"
    },
    {
     "data": {
      "image/png": "[encoded data removed]",
      "text/plain": [
       "<Figure size 640x480 with 1 Axes>"
      ]
     },
     "metadata": {},
     "output_type": "display_data"
    },
    {
     "data": {
      "image/png": "[encoded data removed]",
      "text/plain": [
       "<Figure size 640x480 with 1 Axes>"
      ]
     },
     "metadata": {},
     "output_type": "display_data"
    }
   ],
   "source": [
    "path = r'D:\\JHMDB\\processed_joints_new_v4'\n",
    "\n",
    "annotations = glob.glob(f\"{path}/golf/*.json\")\n",
    "for a in annotations:\n",
    "    print(a)\n",
    "\n",
    "    with open(a) as f:\n",
    "        j = json.load(f)\n",
    "\n",
    "    print(j[0][10])\n",
    "    print(j[0][11])\n",
    "\n",
    "    plt.figure()\n",
    "    plt.xlabel(\"Frame\")\n",
    "    # plt.yticks(ticks=[])\n",
    "    plt.imshow(np.asarray(j[0]), cmap='seismic')\n",
    "    plt.show()\n",
    "\n",
    "    plt.figure()\n",
    "    plt.xlabel(\"Frame\")\n",
    "    plt.yticks(ticks=[])\n",
    "    plt.imshow(np.asarray(j[0])[::2], cmap='seismic')\n",
    "    plt.show()\n",
    "\n",
    "    plt.figure()\n",
    "    plt.yticks(ticks=[])\n",
    "    plt.imshow(np.asarray(j[0])[1::2], cmap='seismic')\n",
    "    plt.show()\n",
    "\n",
    "    break"
   ]
  }
 ],
 "metadata": {
  "kernelspec": {
   "display_name": "Python 3.6.7 ('venv': venv)",
   "language": "python",
   "name": "python3"
  },
  "language_info": {
   "codemirror_mode": {
    "name": "ipython",
    "version": 3
   },
   "file_extension": ".py",
   "mimetype": "text/x-python",
   "name": "python",
   "nbconvert_exporter": "python",
   "pygments_lexer": "ipython3",
   "version": "3.10.11"
  },
  "orig_nbformat": 4,
  "vscode": {
   "interpreter": {
    "hash": "78459e25ea7cd5db60d9ef8d78053b59bce0138b05a7524b7e8329602c688bcb"
   }
  }
 },
 "nbformat": 4,
 "nbformat_minor": 2
}
