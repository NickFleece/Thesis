{
 "cells": [
  {
   "cell_type": "code",
   "execution_count": 17,
   "metadata": {},
   "outputs": [],
   "source": [
    "import os\n",
    "import scipy.io\n",
    "import numpy as np\n",
    "import matplotlib.pyplot as plt\n",
    "import math\n",
    "import json\n",
    "from tqdm import tqdm"
   ]
  },
  {
   "cell_type": "markdown",
   "metadata": {},
   "source": [
    "# Constants"
   ]
  },
  {
   "cell_type": "code",
   "execution_count": 1,
   "metadata": {},
   "outputs": [],
   "source": [
    "BONE_CONNECTIONS = [\n",
    "\n",
    "    # Face - Neck - Shoulder\n",
    "    [2,0,3],\n",
    "    [2,0,4],\n",
    "\n",
    "    # Elbow - Shoulder - Shoulder\n",
    "    [7,3,4],\n",
    "    [8,4,3],\n",
    "\n",
    "    #elbow - shoulder - hip\n",
    "    [7,3,5],\n",
    "    [8,4,6],\n",
    "\n",
    "    #wrist - elbow - shoulder\n",
    "    [11,7,3],\n",
    "    [12,8,4],\n",
    "\n",
    "    #shoulder - hip - knee\n",
    "    [3,5,9],\n",
    "    [4,6,10],\n",
    "\n",
    "    #hip - knee - ankle\n",
    "    [5,9,13],\n",
    "    [6,10,14],\n",
    "]"
   ]
  },
  {
   "cell_type": "code",
   "execution_count": 19,
   "metadata": {},
   "outputs": [
    {
     "data": {
      "text/plain": [
       "[[2, 0, 3],\n",
       " [2, 0, 4],\n",
       " [7, 3, 4],\n",
       " [8, 4, 3],\n",
       " [7, 3, 5],\n",
       " [8, 4, 6],\n",
       " [11, 7, 3],\n",
       " [12, 8, 4],\n",
       " [3, 5, 9],\n",
       " [4, 6, 10],\n",
       " [5, 9, 13],\n",
       " [6, 10, 14],\n",
       " [0, 2, 1],\n",
       " [0, 3, 1],\n",
       " [0, 4, 1],\n",
       " [0, 5, 1],\n",
       " [0, 6, 1],\n",
       " [0, 7, 1],\n",
       " [0, 8, 1],\n",
       " [0, 9, 1],\n",
       " [0, 10, 1],\n",
       " [0, 11, 1],\n",
       " [0, 12, 1],\n",
       " [0, 13, 1],\n",
       " [0, 14, 1],\n",
       " [0, 5, 2],\n",
       " [0, 6, 2],\n",
       " [0, 7, 2],\n",
       " [0, 8, 2],\n",
       " [0, 9, 2],\n",
       " [0, 10, 2],\n",
       " [0, 11, 2],\n",
       " [0, 12, 2],\n",
       " [0, 13, 2],\n",
       " [0, 14, 2],\n",
       " [0, 4, 3],\n",
       " [0, 5, 3],\n",
       " [0, 6, 3],\n",
       " [0, 7, 3],\n",
       " [0, 8, 3],\n",
       " [0, 9, 3],\n",
       " [0, 10, 3],\n",
       " [0, 11, 3],\n",
       " [0, 12, 3],\n",
       " [0, 13, 3],\n",
       " [0, 14, 3],\n",
       " [0, 5, 4],\n",
       " [0, 6, 4],\n",
       " [0, 7, 4],\n",
       " [0, 8, 4],\n",
       " [0, 9, 4],\n",
       " [0, 10, 4],\n",
       " [0, 11, 4],\n",
       " [0, 12, 4],\n",
       " [0, 13, 4],\n",
       " [0, 14, 4],\n",
       " [0, 6, 5],\n",
       " [0, 7, 5],\n",
       " [0, 8, 5],\n",
       " [0, 9, 5],\n",
       " [0, 10, 5],\n",
       " [0, 11, 5],\n",
       " [0, 12, 5],\n",
       " [0, 13, 5],\n",
       " [0, 14, 5],\n",
       " [0, 7, 6],\n",
       " [0, 8, 6],\n",
       " [0, 9, 6],\n",
       " [0, 10, 6],\n",
       " [0, 11, 6],\n",
       " [0, 12, 6],\n",
       " [0, 13, 6],\n",
       " [0, 14, 6],\n",
       " [0, 8, 7],\n",
       " [0, 9, 7],\n",
       " [0, 10, 7],\n",
       " [0, 11, 7],\n",
       " [0, 12, 7],\n",
       " [0, 13, 7],\n",
       " [0, 14, 7],\n",
       " [0, 9, 8],\n",
       " [0, 10, 8],\n",
       " [0, 11, 8],\n",
       " [0, 12, 8],\n",
       " [0, 13, 8],\n",
       " [0, 14, 8],\n",
       " [0, 10, 9],\n",
       " [0, 11, 9],\n",
       " [0, 12, 9],\n",
       " [0, 13, 9],\n",
       " [0, 14, 9],\n",
       " [0, 11, 10],\n",
       " [0, 12, 10],\n",
       " [0, 13, 10],\n",
       " [0, 14, 10],\n",
       " [0, 12, 11],\n",
       " [0, 13, 11],\n",
       " [0, 14, 11],\n",
       " [0, 13, 12],\n",
       " [0, 14, 12],\n",
       " [0, 14, 13],\n",
       " [1, 3, 2],\n",
       " [1, 4, 2],\n",
       " [1, 5, 2],\n",
       " [1, 6, 2],\n",
       " [1, 7, 2],\n",
       " [1, 8, 2],\n",
       " [1, 9, 2],\n",
       " [1, 10, 2],\n",
       " [1, 11, 2],\n",
       " [1, 12, 2],\n",
       " [1, 13, 2],\n",
       " [1, 14, 2],\n",
       " [1, 4, 3],\n",
       " [1, 5, 3],\n",
       " [1, 6, 3],\n",
       " [1, 7, 3],\n",
       " [1, 8, 3],\n",
       " [1, 9, 3],\n",
       " [1, 10, 3],\n",
       " [1, 11, 3],\n",
       " [1, 12, 3],\n",
       " [1, 13, 3],\n",
       " [1, 14, 3],\n",
       " [1, 5, 4],\n",
       " [1, 6, 4],\n",
       " [1, 7, 4],\n",
       " [1, 8, 4],\n",
       " [1, 9, 4],\n",
       " [1, 10, 4],\n",
       " [1, 11, 4],\n",
       " [1, 12, 4],\n",
       " [1, 13, 4],\n",
       " [1, 14, 4],\n",
       " [1, 6, 5],\n",
       " [1, 7, 5],\n",
       " [1, 8, 5],\n",
       " [1, 9, 5],\n",
       " [1, 10, 5],\n",
       " [1, 11, 5],\n",
       " [1, 12, 5],\n",
       " [1, 13, 5],\n",
       " [1, 14, 5],\n",
       " [1, 7, 6],\n",
       " [1, 8, 6],\n",
       " [1, 9, 6],\n",
       " [1, 10, 6],\n",
       " [1, 11, 6],\n",
       " [1, 12, 6],\n",
       " [1, 13, 6],\n",
       " [1, 14, 6],\n",
       " [1, 8, 7],\n",
       " [1, 9, 7],\n",
       " [1, 10, 7],\n",
       " [1, 11, 7],\n",
       " [1, 12, 7],\n",
       " [1, 13, 7],\n",
       " [1, 14, 7],\n",
       " [1, 9, 8],\n",
       " [1, 10, 8],\n",
       " [1, 11, 8],\n",
       " [1, 12, 8],\n",
       " [1, 13, 8],\n",
       " [1, 14, 8],\n",
       " [1, 10, 9],\n",
       " [1, 11, 9],\n",
       " [1, 12, 9],\n",
       " [1, 13, 9],\n",
       " [1, 14, 9],\n",
       " [1, 11, 10],\n",
       " [1, 12, 10],\n",
       " [1, 13, 10],\n",
       " [1, 14, 10],\n",
       " [1, 12, 11],\n",
       " [1, 13, 11],\n",
       " [1, 14, 11],\n",
       " [1, 13, 12],\n",
       " [1, 14, 12],\n",
       " [1, 14, 13],\n",
       " [2, 4, 3],\n",
       " [2, 5, 3],\n",
       " [2, 6, 3],\n",
       " [2, 7, 3],\n",
       " [2, 8, 3],\n",
       " [2, 9, 3],\n",
       " [2, 10, 3],\n",
       " [2, 11, 3],\n",
       " [2, 12, 3],\n",
       " [2, 13, 3],\n",
       " [2, 14, 3],\n",
       " [2, 5, 4],\n",
       " [2, 6, 4],\n",
       " [2, 7, 4],\n",
       " [2, 8, 4],\n",
       " [2, 9, 4],\n",
       " [2, 10, 4],\n",
       " [2, 11, 4],\n",
       " [2, 12, 4],\n",
       " [2, 13, 4],\n",
       " [2, 14, 4],\n",
       " [2, 6, 5],\n",
       " [2, 7, 5],\n",
       " [2, 8, 5],\n",
       " [2, 9, 5],\n",
       " [2, 10, 5],\n",
       " [2, 11, 5],\n",
       " [2, 12, 5],\n",
       " [2, 13, 5],\n",
       " [2, 14, 5],\n",
       " [2, 7, 6],\n",
       " [2, 8, 6],\n",
       " [2, 9, 6],\n",
       " [2, 10, 6],\n",
       " [2, 11, 6],\n",
       " [2, 12, 6],\n",
       " [2, 13, 6],\n",
       " [2, 14, 6],\n",
       " [2, 8, 7],\n",
       " [2, 9, 7],\n",
       " [2, 10, 7],\n",
       " [2, 11, 7],\n",
       " [2, 12, 7],\n",
       " [2, 13, 7],\n",
       " [2, 14, 7],\n",
       " [2, 9, 8],\n",
       " [2, 10, 8],\n",
       " [2, 11, 8],\n",
       " [2, 12, 8],\n",
       " [2, 13, 8],\n",
       " [2, 14, 8],\n",
       " [2, 10, 9],\n",
       " [2, 11, 9],\n",
       " [2, 12, 9],\n",
       " [2, 13, 9],\n",
       " [2, 14, 9],\n",
       " [2, 11, 10],\n",
       " [2, 12, 10],\n",
       " [2, 13, 10],\n",
       " [2, 14, 10],\n",
       " [2, 12, 11],\n",
       " [2, 13, 11],\n",
       " [2, 14, 11],\n",
       " [2, 13, 12],\n",
       " [2, 14, 12],\n",
       " [2, 14, 13],\n",
       " [3, 5, 4],\n",
       " [3, 6, 4],\n",
       " [3, 9, 4],\n",
       " [3, 10, 4],\n",
       " [3, 11, 4],\n",
       " [3, 12, 4],\n",
       " [3, 13, 4],\n",
       " [3, 14, 4],\n",
       " [3, 6, 5],\n",
       " [3, 8, 5],\n",
       " [3, 10, 5],\n",
       " [3, 11, 5],\n",
       " [3, 12, 5],\n",
       " [3, 13, 5],\n",
       " [3, 14, 5],\n",
       " [3, 7, 6],\n",
       " [3, 8, 6],\n",
       " [3, 9, 6],\n",
       " [3, 10, 6],\n",
       " [3, 11, 6],\n",
       " [3, 12, 6],\n",
       " [3, 13, 6],\n",
       " [3, 14, 6],\n",
       " [3, 8, 7],\n",
       " [3, 9, 7],\n",
       " [3, 10, 7],\n",
       " [3, 12, 7],\n",
       " [3, 13, 7],\n",
       " [3, 14, 7],\n",
       " [3, 9, 8],\n",
       " [3, 10, 8],\n",
       " [3, 11, 8],\n",
       " [3, 12, 8],\n",
       " [3, 13, 8],\n",
       " [3, 14, 8],\n",
       " [3, 10, 9],\n",
       " [3, 11, 9],\n",
       " [3, 12, 9],\n",
       " [3, 13, 9],\n",
       " [3, 14, 9],\n",
       " [3, 11, 10],\n",
       " [3, 12, 10],\n",
       " [3, 13, 10],\n",
       " [3, 14, 10],\n",
       " [3, 12, 11],\n",
       " [3, 13, 11],\n",
       " [3, 14, 11],\n",
       " [3, 13, 12],\n",
       " [3, 14, 12],\n",
       " [3, 14, 13],\n",
       " [4, 6, 5],\n",
       " [4, 7, 5],\n",
       " [4, 8, 5],\n",
       " [4, 9, 5],\n",
       " [4, 10, 5],\n",
       " [4, 11, 5],\n",
       " [4, 12, 5],\n",
       " [4, 13, 5],\n",
       " [4, 14, 5],\n",
       " [4, 7, 6],\n",
       " [4, 9, 6],\n",
       " [4, 11, 6],\n",
       " [4, 12, 6],\n",
       " [4, 13, 6],\n",
       " [4, 14, 6],\n",
       " [4, 8, 7],\n",
       " [4, 9, 7],\n",
       " [4, 10, 7],\n",
       " [4, 11, 7],\n",
       " [4, 12, 7],\n",
       " [4, 13, 7],\n",
       " [4, 14, 7],\n",
       " [4, 9, 8],\n",
       " [4, 10, 8],\n",
       " [4, 11, 8],\n",
       " [4, 13, 8],\n",
       " [4, 14, 8],\n",
       " [4, 10, 9],\n",
       " [4, 11, 9],\n",
       " [4, 12, 9],\n",
       " [4, 13, 9],\n",
       " [4, 14, 9],\n",
       " [4, 11, 10],\n",
       " [4, 12, 10],\n",
       " [4, 13, 10],\n",
       " [4, 14, 10],\n",
       " [4, 12, 11],\n",
       " [4, 13, 11],\n",
       " [4, 14, 11],\n",
       " [4, 13, 12],\n",
       " [4, 14, 12],\n",
       " [4, 14, 13],\n",
       " [5, 7, 6],\n",
       " [5, 8, 6],\n",
       " [5, 9, 6],\n",
       " [5, 10, 6],\n",
       " [5, 11, 6],\n",
       " [5, 12, 6],\n",
       " [5, 13, 6],\n",
       " [5, 14, 6],\n",
       " [5, 8, 7],\n",
       " [5, 9, 7],\n",
       " [5, 10, 7],\n",
       " [5, 11, 7],\n",
       " [5, 12, 7],\n",
       " [5, 13, 7],\n",
       " [5, 14, 7],\n",
       " [5, 9, 8],\n",
       " [5, 10, 8],\n",
       " [5, 11, 8],\n",
       " [5, 12, 8],\n",
       " [5, 13, 8],\n",
       " [5, 14, 8],\n",
       " [5, 10, 9],\n",
       " [5, 11, 9],\n",
       " [5, 12, 9],\n",
       " [5, 14, 9],\n",
       " [5, 11, 10],\n",
       " [5, 12, 10],\n",
       " [5, 13, 10],\n",
       " [5, 14, 10],\n",
       " [5, 12, 11],\n",
       " [5, 13, 11],\n",
       " [5, 14, 11],\n",
       " [5, 13, 12],\n",
       " [5, 14, 12],\n",
       " [5, 14, 13],\n",
       " [6, 8, 7],\n",
       " [6, 9, 7],\n",
       " [6, 10, 7],\n",
       " [6, 11, 7],\n",
       " [6, 12, 7],\n",
       " [6, 13, 7],\n",
       " [6, 14, 7],\n",
       " [6, 9, 8],\n",
       " [6, 10, 8],\n",
       " [6, 11, 8],\n",
       " [6, 12, 8],\n",
       " [6, 13, 8],\n",
       " [6, 14, 8],\n",
       " [6, 10, 9],\n",
       " [6, 11, 9],\n",
       " [6, 12, 9],\n",
       " [6, 13, 9],\n",
       " [6, 14, 9],\n",
       " [6, 11, 10],\n",
       " [6, 12, 10],\n",
       " [6, 13, 10],\n",
       " [6, 12, 11],\n",
       " [6, 13, 11],\n",
       " [6, 14, 11],\n",
       " [6, 13, 12],\n",
       " [6, 14, 12],\n",
       " [6, 14, 13],\n",
       " [7, 9, 8],\n",
       " [7, 10, 8],\n",
       " [7, 11, 8],\n",
       " [7, 12, 8],\n",
       " [7, 13, 8],\n",
       " [7, 14, 8],\n",
       " [7, 10, 9],\n",
       " [7, 11, 9],\n",
       " [7, 12, 9],\n",
       " [7, 13, 9],\n",
       " [7, 14, 9],\n",
       " [7, 11, 10],\n",
       " [7, 12, 10],\n",
       " [7, 13, 10],\n",
       " [7, 14, 10],\n",
       " [7, 12, 11],\n",
       " [7, 13, 11],\n",
       " [7, 14, 11],\n",
       " [7, 13, 12],\n",
       " [7, 14, 12],\n",
       " [7, 14, 13],\n",
       " [8, 10, 9],\n",
       " [8, 11, 9],\n",
       " [8, 12, 9],\n",
       " [8, 13, 9],\n",
       " [8, 14, 9],\n",
       " [8, 11, 10],\n",
       " [8, 12, 10],\n",
       " [8, 13, 10],\n",
       " [8, 14, 10],\n",
       " [8, 12, 11],\n",
       " [8, 13, 11],\n",
       " [8, 14, 11],\n",
       " [8, 13, 12],\n",
       " [8, 14, 12],\n",
       " [8, 14, 13],\n",
       " [9, 11, 10],\n",
       " [9, 12, 10],\n",
       " [9, 13, 10],\n",
       " [9, 14, 10],\n",
       " [9, 12, 11],\n",
       " [9, 13, 11],\n",
       " [9, 14, 11],\n",
       " [9, 13, 12],\n",
       " [9, 14, 12],\n",
       " [9, 14, 13],\n",
       " [10, 12, 11],\n",
       " [10, 13, 11],\n",
       " [10, 14, 11],\n",
       " [10, 13, 12],\n",
       " [10, 14, 12],\n",
       " [10, 14, 13],\n",
       " [11, 13, 12],\n",
       " [11, 14, 12],\n",
       " [11, 14, 13],\n",
       " [12, 14, 13]]"
      ]
     },
     "execution_count": 19,
     "metadata": {},
     "output_type": "execute_result"
    }
   ],
   "source": [
    "# ALL POSSIBLE BONE CONNECTIONS\n",
    "ALL_POSSIBLE_BONE_CONNECTIONS = []\n",
    "for b in BONE_CONNECTIONS: ALL_POSSIBLE_BONE_CONNECTIONS.append(b)\n",
    "for i in range(0,15):\n",
    "    for j in range(i+1,15):\n",
    "        for k in range(0,15):\n",
    "\n",
    "            if k == j or k == i: continue\n",
    "\n",
    "            found_match = False\n",
    "            for b in ALL_POSSIBLE_BONE_CONNECTIONS:\n",
    "                if i in b and j in b and k in b:\n",
    "                    found_match = True\n",
    "                    break\n",
    "            \n",
    "            if not found_match:\n",
    "                ALL_POSSIBLE_BONE_CONNECTIONS.append([i,k,j])\n",
    "\n",
    "ALL_POSSIBLE_BONE_CONNECTIONS"
   ]
  },
  {
   "cell_type": "markdown",
   "metadata": {},
   "source": [
    "# Now the processing"
   ]
  },
  {
   "cell_type": "code",
   "execution_count": 20,
   "metadata": {},
   "outputs": [
    {
     "name": "stdout",
     "output_type": "stream",
     "text": [
      "['clap', 'swing_baseball', 'pour', 'run', 'wave', 'shoot_gun', 'shoot_ball', 'throw', 'golf', 'brush_hair', 'shoot_bow', 'stand', 'sit', 'climb_stairs', 'jump', 'pullup', 'pick', 'kick_ball', 'walk', 'push', 'catch']\n"
     ]
    }
   ],
   "source": [
    "DRIVE_DIR = \"D:/JHMDB\"\n",
    "\n",
    "JOINT_POSITION_FOLDER = f\"{DRIVE_DIR}/joint_positions/joint_positions\"\n",
    "CLASSES = os.listdir(JOINT_POSITION_FOLDER)\n",
    "#remove some random folders\n",
    "for c in CLASSES: \n",
    "    if c[0] == \".\": CLASSES.remove(c)\n",
    "\n",
    "print(CLASSES)"
   ]
  },
  {
   "cell_type": "code",
   "execution_count": 21,
   "metadata": {},
   "outputs": [
    {
     "name": "stdout",
     "output_type": "stream",
     "text": [
      "clap\n"
     ]
    },
    {
     "name": "stderr",
     "output_type": "stream",
     "text": [
      "100%|██████████| 46/46 [03:25<00:00,  4.47s/it]\n"
     ]
    },
    {
     "name": "stdout",
     "output_type": "stream",
     "text": [
      "swing_baseball\n"
     ]
    },
    {
     "name": "stderr",
     "output_type": "stream",
     "text": [
      "100%|██████████| 55/55 [03:47<00:00,  4.13s/it]\n"
     ]
    },
    {
     "name": "stdout",
     "output_type": "stream",
     "text": [
      "pour\n"
     ]
    },
    {
     "name": "stderr",
     "output_type": "stream",
     "text": [
      "100%|██████████| 56/56 [03:29<00:00,  3.74s/it]\n"
     ]
    },
    {
     "name": "stdout",
     "output_type": "stream",
     "text": [
      "run\n"
     ]
    },
    {
     "name": "stderr",
     "output_type": "stream",
     "text": [
      "100%|██████████| 41/41 [02:32<00:00,  3.73s/it]\n"
     ]
    },
    {
     "name": "stdout",
     "output_type": "stream",
     "text": [
      "wave\n"
     ]
    },
    {
     "name": "stderr",
     "output_type": "stream",
     "text": [
      "100%|██████████| 43/43 [03:07<00:00,  4.36s/it]\n"
     ]
    },
    {
     "name": "stdout",
     "output_type": "stream",
     "text": [
      "shoot_gun\n"
     ]
    },
    {
     "name": "stderr",
     "output_type": "stream",
     "text": [
      "100%|██████████| 56/56 [03:20<00:00,  3.59s/it]\n"
     ]
    },
    {
     "name": "stdout",
     "output_type": "stream",
     "text": [
      "shoot_ball\n"
     ]
    },
    {
     "name": "stderr",
     "output_type": "stream",
     "text": [
      "100%|██████████| 41/41 [02:07<00:00,  3.12s/it]\n"
     ]
    },
    {
     "name": "stdout",
     "output_type": "stream",
     "text": [
      "throw\n"
     ]
    },
    {
     "name": "stderr",
     "output_type": "stream",
     "text": [
      "100%|██████████| 47/47 [03:50<00:00,  4.90s/it]\n"
     ]
    },
    {
     "name": "stdout",
     "output_type": "stream",
     "text": [
      "golf\n"
     ]
    },
    {
     "name": "stderr",
     "output_type": "stream",
     "text": [
      "100%|██████████| 43/43 [03:53<00:00,  5.43s/it]\n"
     ]
    },
    {
     "name": "stdout",
     "output_type": "stream",
     "text": [
      "brush_hair\n"
     ]
    },
    {
     "name": "stderr",
     "output_type": "stream",
     "text": [
      "100%|██████████| 42/42 [03:55<00:00,  5.60s/it]\n"
     ]
    },
    {
     "name": "stdout",
     "output_type": "stream",
     "text": [
      "shoot_bow\n"
     ]
    },
    {
     "name": "stderr",
     "output_type": "stream",
     "text": [
      "100%|██████████| 54/54 [04:12<00:00,  4.67s/it]\n"
     ]
    },
    {
     "name": "stdout",
     "output_type": "stream",
     "text": [
      "stand\n"
     ]
    },
    {
     "name": "stderr",
     "output_type": "stream",
     "text": [
      "100%|██████████| 37/37 [02:09<00:00,  3.51s/it]\n"
     ]
    },
    {
     "name": "stdout",
     "output_type": "stream",
     "text": [
      "sit\n"
     ]
    },
    {
     "name": "stderr",
     "output_type": "stream",
     "text": [
      "100%|██████████| 40/40 [02:53<00:00,  4.33s/it]\n"
     ]
    },
    {
     "name": "stdout",
     "output_type": "stream",
     "text": [
      "climb_stairs\n"
     ]
    },
    {
     "name": "stderr",
     "output_type": "stream",
     "text": [
      "100%|██████████| 41/41 [03:41<00:00,  5.41s/it]\n"
     ]
    },
    {
     "name": "stdout",
     "output_type": "stream",
     "text": [
      "jump\n"
     ]
    },
    {
     "name": "stderr",
     "output_type": "stream",
     "text": [
      "100%|██████████| 40/40 [02:48<00:00,  4.20s/it]\n"
     ]
    },
    {
     "name": "stdout",
     "output_type": "stream",
     "text": [
      "pullup\n"
     ]
    },
    {
     "name": "stderr",
     "output_type": "stream",
     "text": [
      "100%|██████████| 56/56 [05:14<00:00,  5.61s/it]\n"
     ]
    },
    {
     "name": "stdout",
     "output_type": "stream",
     "text": [
      "pick\n"
     ]
    },
    {
     "name": "stderr",
     "output_type": "stream",
     "text": [
      "100%|██████████| 41/41 [03:18<00:00,  4.84s/it]\n"
     ]
    },
    {
     "name": "stdout",
     "output_type": "stream",
     "text": [
      "kick_ball\n"
     ]
    },
    {
     "name": "stderr",
     "output_type": "stream",
     "text": [
      "100%|██████████| 38/38 [02:21<00:00,  3.72s/it]\n"
     ]
    },
    {
     "name": "stdout",
     "output_type": "stream",
     "text": [
      "walk\n"
     ]
    },
    {
     "name": "stderr",
     "output_type": "stream",
     "text": [
      "100%|██████████| 42/42 [03:23<00:00,  4.85s/it]\n"
     ]
    },
    {
     "name": "stdout",
     "output_type": "stream",
     "text": [
      "push\n"
     ]
    },
    {
     "name": "stderr",
     "output_type": "stream",
     "text": [
      "100%|██████████| 43/43 [03:51<00:00,  5.39s/it]\n"
     ]
    },
    {
     "name": "stdout",
     "output_type": "stream",
     "text": [
      "catch\n"
     ]
    },
    {
     "name": "stderr",
     "output_type": "stream",
     "text": [
      "100%|██████████| 49/49 [03:08<00:00,  3.84s/it]\n"
     ]
    }
   ],
   "source": [
    "for c in CLASSES:\n",
    "\n",
    "    print(c)\n",
    "\n",
    "    if not os.path.exists(f\"{DRIVE_DIR}/processed_joints_new/{c}\"):\n",
    "        os.mkdir(f\"{DRIVE_DIR}/processed_joints_new/{c}\")\n",
    "\n",
    "    for i in tqdm(os.listdir(f\"{JOINT_POSITION_FOLDER}/{c}\")):\n",
    "        \n",
    "        if i[0] == \".\": continue\n",
    "\n",
    "        joint_positions = scipy.io.loadmat(f\"{JOINT_POSITION_FOLDER}/{c}/{i}/joint_positions.mat\")['pos_img']\n",
    "        \n",
    "        # uncomment this to show some bone plots\n",
    "\n",
    "        # frame0 = f\"{DRIVE_DIR}/Rename_Images/Rename_Images/{c}/{i}/00001.png\"\n",
    "        # plt.imshow(plt.imread(frame0))\n",
    "        # plt.show()\n",
    "        # for c in BONE_CONNECTIONS:\n",
    "        #     # plt.figure(figsize=(15,15))\n",
    "        #     plt.imshow(plt.imread(frame0))\n",
    "        #     print(c)\n",
    "        #     for x in c:\n",
    "        #         plt.scatter(joint_positions[:,:,0][0][x], joint_positions[:,:,0][1][x])\n",
    "        #     plt.show()\n",
    "\n",
    "        bone_angles = []\n",
    "        for j in range(joint_positions.shape[2]):\n",
    "\n",
    "            frame_joint_positions = joint_positions[:,:,j]\n",
    "\n",
    "            # frame_joint_positions[1] = frame_joint_positions[1] * -1\n",
    "\n",
    "            one_frame_bone_angles = []\n",
    "            for bone_connection in ALL_POSSIBLE_BONE_CONNECTIONS:\n",
    "                \n",
    "                j1 = frame_joint_positions[:,bone_connection[0]]\n",
    "                j2 = frame_joint_positions[:,bone_connection[1]]\n",
    "                j3 = frame_joint_positions[:,bone_connection[2]]\n",
    "\n",
    "                bone_vector_1 = [j1[0] - j2[0], (j1[1] - j2[1])*-1]\n",
    "                bone_vector_2 = [j3[0] - j2[0], (j3[1] - j2[1])*-1]\n",
    "\n",
    "                if np.linalg.norm(bone_vector_1) == 0.0 or np.linalg.norm(bone_vector_2) == 0.0:\n",
    "                    one_frame_bone_angles.append(None)\n",
    "                    print(\"bone vector was on origin\")\n",
    "                    continue\n",
    "\n",
    "                bone_unit_vector_1 = bone_vector_1 / np.linalg.norm(bone_vector_1)\n",
    "                bone_unit_vector_2 = bone_vector_2 / np.linalg.norm(bone_vector_2)\n",
    "\n",
    "                bone_angle = math.degrees(math.atan2(bone_unit_vector_1[1], bone_unit_vector_1[0]) - math.atan2(bone_unit_vector_2[1], bone_unit_vector_2[0]))\n",
    "\n",
    "                one_frame_bone_angles.append(bone_angle)\n",
    "\n",
    "                # plt.xlim(0,350)\n",
    "                # plt.ylim(256,0)\n",
    "                # plt.grid()\n",
    "                # plt.plot([j2[0], j1[0]], [j2[1], j1[1]])\n",
    "                # plt.plot([j2[0], j3[0]], [j2[1], j3[1]])\n",
    "\n",
    "            bone_angles.append(one_frame_bone_angles)\n",
    "\n",
    "        bone_angles = np.asarray(bone_angles)\n",
    "\n",
    "        bone_angle_changes = []\n",
    "\n",
    "        for f in range(bone_angles.shape[1])[2:]:\n",
    "\n",
    "            one_bone_angle_changes = []\n",
    "            for j in range(1, len(bone_angles[:,f])):\n",
    "\n",
    "                angle_changes = []\n",
    "\n",
    "                for k in range(1,39):\n",
    "\n",
    "                    if k > j:\n",
    "                        angle_changes.append(0)\n",
    "                        continue\n",
    "\n",
    "                    angle_changes.append(bone_angles[j,f] - bone_angles[j-k,f])\n",
    "\n",
    "                one_bone_angle_changes.append(angle_changes)\n",
    "\n",
    "            bone_angle_changes.append(one_bone_angle_changes)\n",
    "\n",
    "        with open(f\"{DRIVE_DIR}/processed_joints_new/{c}/{i}.json\", 'w') as f:\n",
    "            json.dump(bone_angle_changes, f)\n"
   ]
  }
 ],
 "metadata": {
  "kernelspec": {
   "display_name": "Python 3.6.7 ('venv': venv)",
   "language": "python",
   "name": "python3"
  },
  "language_info": {
   "codemirror_mode": {
    "name": "ipython",
    "version": 3
   },
   "file_extension": ".py",
   "mimetype": "text/x-python",
   "name": "python",
   "nbconvert_exporter": "python",
   "pygments_lexer": "ipython3",
   "version": "3.6.7"
  },
  "orig_nbformat": 4,
  "vscode": {
   "interpreter": {
    "hash": "78459e25ea7cd5db60d9ef8d78053b59bce0138b05a7524b7e8329602c688bcb"
   }
  }
 },
 "nbformat": 4,
 "nbformat_minor": 2
}
