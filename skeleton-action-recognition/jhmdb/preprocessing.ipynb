{
 "cells": [
  {
   "cell_type": "code",
   "execution_count": 1,
   "metadata": {},
   "outputs": [],
   "source": [
    "import os\n",
    "import scipy.io\n",
    "import numpy as np\n",
    "import matplotlib.pyplot as plt\n",
    "import math\n",
    "import json"
   ]
  },
  {
   "cell_type": "markdown",
   "metadata": {},
   "source": [
    "# Constants"
   ]
  },
  {
   "cell_type": "code",
   "execution_count": 4,
   "metadata": {},
   "outputs": [],
   "source": [
    "BONE_CONNECTIONS = [\n",
    "\n",
    "    # Face - Neck - Shoulder\n",
    "    [2,0,3],\n",
    "    [2,0,4],\n",
    "\n",
    "    # Elbow - Shoulder - Shoulder\n",
    "    [7,3,4],\n",
    "    [8,4,3],\n",
    "\n",
    "    #elbow - shoulder - hip\n",
    "    [7,3,5],\n",
    "    [8,4,6],\n",
    "\n",
    "    #wrist - elbow - shoulder\n",
    "    [11,7,3],\n",
    "    [12,8,4],\n",
    "\n",
    "    #shoulder - hip - knee\n",
    "    [3,5,9],\n",
    "    [4,6,10],\n",
    "\n",
    "    #hip - knee - ankle\n",
    "    [5,9,13],\n",
    "    [6,10,14],\n",
    "]"
   ]
  },
  {
   "cell_type": "markdown",
   "metadata": {},
   "source": [
    "# Now the processing"
   ]
  },
  {
   "cell_type": "code",
   "execution_count": 2,
   "metadata": {},
   "outputs": [
    {
     "name": "stdout",
     "output_type": "stream",
     "text": [
      "['clap', 'swing_baseball', 'pour', 'run', 'wave', 'shoot_gun', 'shoot_ball', 'throw', 'golf', 'brush_hair', 'shoot_bow', 'stand', 'sit', 'climb_stairs', 'jump', 'pullup', 'pick', 'kick_ball', 'walk', 'push', 'catch']\n"
     ]
    }
   ],
   "source": [
    "DRIVE_DIR = \"H:/JHMDB\"\n",
    "\n",
    "JOINT_POSITION_FOLDER = f\"{DRIVE_DIR}/joint_positions/joint_positions\"\n",
    "CLASSES = os.listdir(JOINT_POSITION_FOLDER)\n",
    "#remove some random folders\n",
    "for c in CLASSES: \n",
    "    if c[0] == \".\": CLASSES.remove(c)\n",
    "\n",
    "print(CLASSES)"
   ]
  },
  {
   "cell_type": "code",
   "execution_count": 7,
   "metadata": {},
   "outputs": [
    {
     "name": "stdout",
     "output_type": "stream",
     "text": [
      "clap\n",
      "swing_baseball\n",
      "pour\n",
      "run\n",
      "wave\n",
      "shoot_gun\n",
      "shoot_ball\n",
      "throw\n",
      "golf\n",
      "brush_hair\n",
      "shoot_bow\n",
      "stand\n",
      "sit\n",
      "climb_stairs\n",
      "jump\n",
      "pullup\n",
      "pick\n",
      "kick_ball\n",
      "walk\n",
      "push\n",
      "catch\n"
     ]
    }
   ],
   "source": [
    "for c in CLASSES:\n",
    "\n",
    "    print(c)\n",
    "\n",
    "    if not os.path.exists(f\"{DRIVE_DIR}/processed_joints/{c}\"):\n",
    "        os.mkdir(f\"{DRIVE_DIR}/processed_joints/{c}\")\n",
    "\n",
    "    for i in os.listdir(f\"{JOINT_POSITION_FOLDER}/{c}\"):\n",
    "        \n",
    "        if i[0] == \".\": continue\n",
    "\n",
    "        joint_positions = scipy.io.loadmat(f\"{JOINT_POSITION_FOLDER}/{c}/{i}/joint_positions.mat\")['pos_img']\n",
    "        \n",
    "        # uncomment this to show some bone plots\n",
    "\n",
    "        # frame0 = f\"{DRIVE_DIR}/Rename_Images/Rename_Images/{c}/{i}/00001.png\"\n",
    "        # plt.imshow(plt.imread(frame0))\n",
    "        # plt.show()\n",
    "        # for c in BONE_CONNECTIONS:\n",
    "        #     # plt.figure(figsize=(15,15))\n",
    "        #     plt.imshow(plt.imread(frame0))\n",
    "        #     print(c)\n",
    "        #     for x in c:\n",
    "        #         plt.scatter(joint_positions[:,:,0][0][x], joint_positions[:,:,0][1][x])\n",
    "        #     plt.show()\n",
    "\n",
    "        bone_angles = []\n",
    "        for j in range(joint_positions.shape[2]):\n",
    "\n",
    "            frame_joint_positions = joint_positions[:,:,j]\n",
    "\n",
    "            # frame_joint_positions[1] = frame_joint_positions[1] * -1\n",
    "\n",
    "            one_frame_bone_angles = []\n",
    "            for bone_connection in BONE_CONNECTIONS:\n",
    "                \n",
    "                j1 = frame_joint_positions[:,bone_connection[0]]\n",
    "                j2 = frame_joint_positions[:,bone_connection[1]]\n",
    "                j3 = frame_joint_positions[:,bone_connection[2]]\n",
    "\n",
    "                bone_vector_1 = [j1[0] - j2[0], (j1[1] - j2[1])*-1]\n",
    "                bone_vector_2 = [j3[0] - j2[0], (j3[1] - j2[1])*-1]\n",
    "\n",
    "                if np.linalg.norm(bone_vector_1) == 0.0 or np.linalg.norm(bone_vector_2) == 0.0:\n",
    "                    one_frame_bone_angles.append(None)\n",
    "                    print(\"bone vector was on origin\")\n",
    "                    continue\n",
    "\n",
    "                bone_unit_vector_1 = bone_vector_1 / np.linalg.norm(bone_vector_1)\n",
    "                bone_unit_vector_2 = bone_vector_2 / np.linalg.norm(bone_vector_2)\n",
    "\n",
    "                bone_angle = math.degrees(math.atan2(bone_unit_vector_1[1], bone_unit_vector_1[0]) - math.atan2(bone_unit_vector_2[1], bone_unit_vector_2[0]))\n",
    "\n",
    "                one_frame_bone_angles.append(bone_angle)\n",
    "\n",
    "                # plt.xlim(0,350)\n",
    "                # plt.ylim(256,0)\n",
    "                # plt.grid()\n",
    "                # plt.plot([j2[0], j1[0]], [j2[1], j1[1]])\n",
    "                # plt.plot([j2[0], j3[0]], [j2[1], j3[1]])\n",
    "\n",
    "            bone_angles.append(one_frame_bone_angles)\n",
    "\n",
    "        bone_angles = np.asarray(bone_angles)\n",
    "\n",
    "        bone_angle_changes = []\n",
    "\n",
    "        for f in range(bone_angles.shape[1])[2:]:\n",
    "\n",
    "            one_bone_angle_changes = []\n",
    "            for j in range(1, len(bone_angles[:,f])):\n",
    "\n",
    "                angle_changes = []\n",
    "\n",
    "                for k in range(1,39):\n",
    "\n",
    "                    if k > j:\n",
    "                        angle_changes.append(0)\n",
    "                        continue\n",
    "\n",
    "                    angle_changes.append(bone_angles[j,f] - bone_angles[j-k,f])\n",
    "\n",
    "                one_bone_angle_changes.append(angle_changes)\n",
    "\n",
    "            bone_angle_changes.append(one_bone_angle_changes)\n",
    "\n",
    "        with open(f\"{DRIVE_DIR}/processed_joints/{c}/{i}.json\", 'w') as f:\n",
    "            json.dump(bone_angle_changes, f)\n"
   ]
  }
 ],
 "metadata": {
  "kernelspec": {
   "display_name": "Python 3.6.7 ('venv': venv)",
   "language": "python",
   "name": "python3"
  },
  "language_info": {
   "codemirror_mode": {
    "name": "ipython",
    "version": 3
   },
   "file_extension": ".py",
   "mimetype": "text/x-python",
   "name": "python",
   "nbconvert_exporter": "python",
   "pygments_lexer": "ipython3",
   "version": "3.6.7"
  },
  "orig_nbformat": 4,
  "vscode": {
   "interpreter": {
    "hash": "78459e25ea7cd5db60d9ef8d78053b59bce0138b05a7524b7e8329602c688bcb"
   }
  }
 },
 "nbformat": 4,
 "nbformat_minor": 2
}
