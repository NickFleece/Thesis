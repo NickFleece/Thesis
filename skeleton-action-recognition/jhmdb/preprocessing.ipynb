{
 "cells": [
  {
   "cell_type": "code",
   "execution_count": 1,
   "metadata": {},
   "outputs": [],
   "source": [
    "import os\n",
    "import scipy.io\n",
    "import numpy as np\n",
    "import matplotlib.pyplot as plt\n",
    "import math\n",
    "import json\n",
    "from tqdm.notebook import tqdm\n",
    "import glob"
   ]
  },
  {
   "attachments": {},
   "cell_type": "markdown",
   "metadata": {},
   "source": [
    "# Default JHMDB"
   ]
  },
  {
   "cell_type": "code",
   "execution_count": 2,
   "metadata": {},
   "outputs": [],
   "source": [
    "BONE_CONNECTIONS = [\n",
    "\n",
    "    # Face - Neck - Shoulder\n",
    "    [2,0,3],\n",
    "    [2,0,4],\n",
    "\n",
    "    # Elbow - Shoulder - Shoulder\n",
    "    [7,3,4],\n",
    "    [8,4,3],\n",
    "\n",
    "    #elbow - shoulder - hip\n",
    "    [7,3,5],\n",
    "    [8,4,6],\n",
    "\n",
    "    #wrist - elbow - shoulder\n",
    "    [11,7,3],\n",
    "    [12,8,4],\n",
    "\n",
    "    #shoulder - hip - knee\n",
    "    [3,5,9],\n",
    "    [4,6,10],\n",
    "\n",
    "    #hip - knee - ankle\n",
    "    [5,9,13],\n",
    "    [6,10,14],\n",
    "]"
   ]
  },
  {
   "cell_type": "code",
   "execution_count": 4,
   "metadata": {},
   "outputs": [
    {
     "data": {
      "text/plain": [
       "[[2, 0, 3],\n",
       " [2, 0, 4],\n",
       " [7, 3, 4],\n",
       " [8, 4, 3],\n",
       " [7, 3, 5],\n",
       " [8, 4, 6],\n",
       " [11, 7, 3],\n",
       " [12, 8, 4],\n",
       " [3, 5, 9],\n",
       " [4, 6, 10],\n",
       " [5, 9, 13],\n",
       " [6, 10, 14],\n",
       " [0, 2, 1],\n",
       " [0, 3, 1],\n",
       " [0, 4, 1],\n",
       " [0, 5, 1],\n",
       " [0, 6, 1],\n",
       " [0, 7, 1],\n",
       " [0, 8, 1],\n",
       " [0, 9, 1],\n",
       " [0, 10, 1],\n",
       " [0, 11, 1],\n",
       " [0, 12, 1],\n",
       " [0, 13, 1],\n",
       " [0, 14, 1],\n",
       " [0, 5, 2],\n",
       " [0, 6, 2],\n",
       " [0, 7, 2],\n",
       " [0, 8, 2],\n",
       " [0, 9, 2],\n",
       " [0, 10, 2],\n",
       " [0, 11, 2],\n",
       " [0, 12, 2],\n",
       " [0, 13, 2],\n",
       " [0, 14, 2],\n",
       " [0, 4, 3],\n",
       " [0, 5, 3],\n",
       " [0, 6, 3],\n",
       " [0, 7, 3],\n",
       " [0, 8, 3],\n",
       " [0, 9, 3],\n",
       " [0, 10, 3],\n",
       " [0, 11, 3],\n",
       " [0, 12, 3],\n",
       " [0, 13, 3],\n",
       " [0, 14, 3],\n",
       " [0, 5, 4],\n",
       " [0, 6, 4],\n",
       " [0, 7, 4],\n",
       " [0, 8, 4],\n",
       " [0, 9, 4],\n",
       " [0, 10, 4],\n",
       " [0, 11, 4],\n",
       " [0, 12, 4],\n",
       " [0, 13, 4],\n",
       " [0, 14, 4],\n",
       " [0, 6, 5],\n",
       " [0, 7, 5],\n",
       " [0, 8, 5],\n",
       " [0, 9, 5],\n",
       " [0, 10, 5],\n",
       " [0, 11, 5],\n",
       " [0, 12, 5],\n",
       " [0, 13, 5],\n",
       " [0, 14, 5],\n",
       " [0, 7, 6],\n",
       " [0, 8, 6],\n",
       " [0, 9, 6],\n",
       " [0, 10, 6],\n",
       " [0, 11, 6],\n",
       " [0, 12, 6],\n",
       " [0, 13, 6],\n",
       " [0, 14, 6],\n",
       " [0, 8, 7],\n",
       " [0, 9, 7],\n",
       " [0, 10, 7],\n",
       " [0, 11, 7],\n",
       " [0, 12, 7],\n",
       " [0, 13, 7],\n",
       " [0, 14, 7],\n",
       " [0, 9, 8],\n",
       " [0, 10, 8],\n",
       " [0, 11, 8],\n",
       " [0, 12, 8],\n",
       " [0, 13, 8],\n",
       " [0, 14, 8],\n",
       " [0, 10, 9],\n",
       " [0, 11, 9],\n",
       " [0, 12, 9],\n",
       " [0, 13, 9],\n",
       " [0, 14, 9],\n",
       " [0, 11, 10],\n",
       " [0, 12, 10],\n",
       " [0, 13, 10],\n",
       " [0, 14, 10],\n",
       " [0, 12, 11],\n",
       " [0, 13, 11],\n",
       " [0, 14, 11],\n",
       " [0, 13, 12],\n",
       " [0, 14, 12],\n",
       " [0, 14, 13],\n",
       " [1, 3, 2],\n",
       " [1, 4, 2],\n",
       " [1, 5, 2],\n",
       " [1, 6, 2],\n",
       " [1, 7, 2],\n",
       " [1, 8, 2],\n",
       " [1, 9, 2],\n",
       " [1, 10, 2],\n",
       " [1, 11, 2],\n",
       " [1, 12, 2],\n",
       " [1, 13, 2],\n",
       " [1, 14, 2],\n",
       " [1, 4, 3],\n",
       " [1, 5, 3],\n",
       " [1, 6, 3],\n",
       " [1, 7, 3],\n",
       " [1, 8, 3],\n",
       " [1, 9, 3],\n",
       " [1, 10, 3],\n",
       " [1, 11, 3],\n",
       " [1, 12, 3],\n",
       " [1, 13, 3],\n",
       " [1, 14, 3],\n",
       " [1, 5, 4],\n",
       " [1, 6, 4],\n",
       " [1, 7, 4],\n",
       " [1, 8, 4],\n",
       " [1, 9, 4],\n",
       " [1, 10, 4],\n",
       " [1, 11, 4],\n",
       " [1, 12, 4],\n",
       " [1, 13, 4],\n",
       " [1, 14, 4],\n",
       " [1, 6, 5],\n",
       " [1, 7, 5],\n",
       " [1, 8, 5],\n",
       " [1, 9, 5],\n",
       " [1, 10, 5],\n",
       " [1, 11, 5],\n",
       " [1, 12, 5],\n",
       " [1, 13, 5],\n",
       " [1, 14, 5],\n",
       " [1, 7, 6],\n",
       " [1, 8, 6],\n",
       " [1, 9, 6],\n",
       " [1, 10, 6],\n",
       " [1, 11, 6],\n",
       " [1, 12, 6],\n",
       " [1, 13, 6],\n",
       " [1, 14, 6],\n",
       " [1, 8, 7],\n",
       " [1, 9, 7],\n",
       " [1, 10, 7],\n",
       " [1, 11, 7],\n",
       " [1, 12, 7],\n",
       " [1, 13, 7],\n",
       " [1, 14, 7],\n",
       " [1, 9, 8],\n",
       " [1, 10, 8],\n",
       " [1, 11, 8],\n",
       " [1, 12, 8],\n",
       " [1, 13, 8],\n",
       " [1, 14, 8],\n",
       " [1, 10, 9],\n",
       " [1, 11, 9],\n",
       " [1, 12, 9],\n",
       " [1, 13, 9],\n",
       " [1, 14, 9],\n",
       " [1, 11, 10],\n",
       " [1, 12, 10],\n",
       " [1, 13, 10],\n",
       " [1, 14, 10],\n",
       " [1, 12, 11],\n",
       " [1, 13, 11],\n",
       " [1, 14, 11],\n",
       " [1, 13, 12],\n",
       " [1, 14, 12],\n",
       " [1, 14, 13],\n",
       " [2, 4, 3],\n",
       " [2, 5, 3],\n",
       " [2, 6, 3],\n",
       " [2, 7, 3],\n",
       " [2, 8, 3],\n",
       " [2, 9, 3],\n",
       " [2, 10, 3],\n",
       " [2, 11, 3],\n",
       " [2, 12, 3],\n",
       " [2, 13, 3],\n",
       " [2, 14, 3],\n",
       " [2, 5, 4],\n",
       " [2, 6, 4],\n",
       " [2, 7, 4],\n",
       " [2, 8, 4],\n",
       " [2, 9, 4],\n",
       " [2, 10, 4],\n",
       " [2, 11, 4],\n",
       " [2, 12, 4],\n",
       " [2, 13, 4],\n",
       " [2, 14, 4],\n",
       " [2, 6, 5],\n",
       " [2, 7, 5],\n",
       " [2, 8, 5],\n",
       " [2, 9, 5],\n",
       " [2, 10, 5],\n",
       " [2, 11, 5],\n",
       " [2, 12, 5],\n",
       " [2, 13, 5],\n",
       " [2, 14, 5],\n",
       " [2, 7, 6],\n",
       " [2, 8, 6],\n",
       " [2, 9, 6],\n",
       " [2, 10, 6],\n",
       " [2, 11, 6],\n",
       " [2, 12, 6],\n",
       " [2, 13, 6],\n",
       " [2, 14, 6],\n",
       " [2, 8, 7],\n",
       " [2, 9, 7],\n",
       " [2, 10, 7],\n",
       " [2, 11, 7],\n",
       " [2, 12, 7],\n",
       " [2, 13, 7],\n",
       " [2, 14, 7],\n",
       " [2, 9, 8],\n",
       " [2, 10, 8],\n",
       " [2, 11, 8],\n",
       " [2, 12, 8],\n",
       " [2, 13, 8],\n",
       " [2, 14, 8],\n",
       " [2, 10, 9],\n",
       " [2, 11, 9],\n",
       " [2, 12, 9],\n",
       " [2, 13, 9],\n",
       " [2, 14, 9],\n",
       " [2, 11, 10],\n",
       " [2, 12, 10],\n",
       " [2, 13, 10],\n",
       " [2, 14, 10],\n",
       " [2, 12, 11],\n",
       " [2, 13, 11],\n",
       " [2, 14, 11],\n",
       " [2, 13, 12],\n",
       " [2, 14, 12],\n",
       " [2, 14, 13],\n",
       " [3, 5, 4],\n",
       " [3, 6, 4],\n",
       " [3, 9, 4],\n",
       " [3, 10, 4],\n",
       " [3, 11, 4],\n",
       " [3, 12, 4],\n",
       " [3, 13, 4],\n",
       " [3, 14, 4],\n",
       " [3, 6, 5],\n",
       " [3, 8, 5],\n",
       " [3, 10, 5],\n",
       " [3, 11, 5],\n",
       " [3, 12, 5],\n",
       " [3, 13, 5],\n",
       " [3, 14, 5],\n",
       " [3, 7, 6],\n",
       " [3, 8, 6],\n",
       " [3, 9, 6],\n",
       " [3, 10, 6],\n",
       " [3, 11, 6],\n",
       " [3, 12, 6],\n",
       " [3, 13, 6],\n",
       " [3, 14, 6],\n",
       " [3, 8, 7],\n",
       " [3, 9, 7],\n",
       " [3, 10, 7],\n",
       " [3, 12, 7],\n",
       " [3, 13, 7],\n",
       " [3, 14, 7],\n",
       " [3, 9, 8],\n",
       " [3, 10, 8],\n",
       " [3, 11, 8],\n",
       " [3, 12, 8],\n",
       " [3, 13, 8],\n",
       " [3, 14, 8],\n",
       " [3, 10, 9],\n",
       " [3, 11, 9],\n",
       " [3, 12, 9],\n",
       " [3, 13, 9],\n",
       " [3, 14, 9],\n",
       " [3, 11, 10],\n",
       " [3, 12, 10],\n",
       " [3, 13, 10],\n",
       " [3, 14, 10],\n",
       " [3, 12, 11],\n",
       " [3, 13, 11],\n",
       " [3, 14, 11],\n",
       " [3, 13, 12],\n",
       " [3, 14, 12],\n",
       " [3, 14, 13],\n",
       " [4, 6, 5],\n",
       " [4, 7, 5],\n",
       " [4, 8, 5],\n",
       " [4, 9, 5],\n",
       " [4, 10, 5],\n",
       " [4, 11, 5],\n",
       " [4, 12, 5],\n",
       " [4, 13, 5],\n",
       " [4, 14, 5],\n",
       " [4, 7, 6],\n",
       " [4, 9, 6],\n",
       " [4, 11, 6],\n",
       " [4, 12, 6],\n",
       " [4, 13, 6],\n",
       " [4, 14, 6],\n",
       " [4, 8, 7],\n",
       " [4, 9, 7],\n",
       " [4, 10, 7],\n",
       " [4, 11, 7],\n",
       " [4, 12, 7],\n",
       " [4, 13, 7],\n",
       " [4, 14, 7],\n",
       " [4, 9, 8],\n",
       " [4, 10, 8],\n",
       " [4, 11, 8],\n",
       " [4, 13, 8],\n",
       " [4, 14, 8],\n",
       " [4, 10, 9],\n",
       " [4, 11, 9],\n",
       " [4, 12, 9],\n",
       " [4, 13, 9],\n",
       " [4, 14, 9],\n",
       " [4, 11, 10],\n",
       " [4, 12, 10],\n",
       " [4, 13, 10],\n",
       " [4, 14, 10],\n",
       " [4, 12, 11],\n",
       " [4, 13, 11],\n",
       " [4, 14, 11],\n",
       " [4, 13, 12],\n",
       " [4, 14, 12],\n",
       " [4, 14, 13],\n",
       " [5, 7, 6],\n",
       " [5, 8, 6],\n",
       " [5, 9, 6],\n",
       " [5, 10, 6],\n",
       " [5, 11, 6],\n",
       " [5, 12, 6],\n",
       " [5, 13, 6],\n",
       " [5, 14, 6],\n",
       " [5, 8, 7],\n",
       " [5, 9, 7],\n",
       " [5, 10, 7],\n",
       " [5, 11, 7],\n",
       " [5, 12, 7],\n",
       " [5, 13, 7],\n",
       " [5, 14, 7],\n",
       " [5, 9, 8],\n",
       " [5, 10, 8],\n",
       " [5, 11, 8],\n",
       " [5, 12, 8],\n",
       " [5, 13, 8],\n",
       " [5, 14, 8],\n",
       " [5, 10, 9],\n",
       " [5, 11, 9],\n",
       " [5, 12, 9],\n",
       " [5, 14, 9],\n",
       " [5, 11, 10],\n",
       " [5, 12, 10],\n",
       " [5, 13, 10],\n",
       " [5, 14, 10],\n",
       " [5, 12, 11],\n",
       " [5, 13, 11],\n",
       " [5, 14, 11],\n",
       " [5, 13, 12],\n",
       " [5, 14, 12],\n",
       " [5, 14, 13],\n",
       " [6, 8, 7],\n",
       " [6, 9, 7],\n",
       " [6, 10, 7],\n",
       " [6, 11, 7],\n",
       " [6, 12, 7],\n",
       " [6, 13, 7],\n",
       " [6, 14, 7],\n",
       " [6, 9, 8],\n",
       " [6, 10, 8],\n",
       " [6, 11, 8],\n",
       " [6, 12, 8],\n",
       " [6, 13, 8],\n",
       " [6, 14, 8],\n",
       " [6, 10, 9],\n",
       " [6, 11, 9],\n",
       " [6, 12, 9],\n",
       " [6, 13, 9],\n",
       " [6, 14, 9],\n",
       " [6, 11, 10],\n",
       " [6, 12, 10],\n",
       " [6, 13, 10],\n",
       " [6, 12, 11],\n",
       " [6, 13, 11],\n",
       " [6, 14, 11],\n",
       " [6, 13, 12],\n",
       " [6, 14, 12],\n",
       " [6, 14, 13],\n",
       " [7, 9, 8],\n",
       " [7, 10, 8],\n",
       " [7, 11, 8],\n",
       " [7, 12, 8],\n",
       " [7, 13, 8],\n",
       " [7, 14, 8],\n",
       " [7, 10, 9],\n",
       " [7, 11, 9],\n",
       " [7, 12, 9],\n",
       " [7, 13, 9],\n",
       " [7, 14, 9],\n",
       " [7, 11, 10],\n",
       " [7, 12, 10],\n",
       " [7, 13, 10],\n",
       " [7, 14, 10],\n",
       " [7, 12, 11],\n",
       " [7, 13, 11],\n",
       " [7, 14, 11],\n",
       " [7, 13, 12],\n",
       " [7, 14, 12],\n",
       " [7, 14, 13],\n",
       " [8, 10, 9],\n",
       " [8, 11, 9],\n",
       " [8, 12, 9],\n",
       " [8, 13, 9],\n",
       " [8, 14, 9],\n",
       " [8, 11, 10],\n",
       " [8, 12, 10],\n",
       " [8, 13, 10],\n",
       " [8, 14, 10],\n",
       " [8, 12, 11],\n",
       " [8, 13, 11],\n",
       " [8, 14, 11],\n",
       " [8, 13, 12],\n",
       " [8, 14, 12],\n",
       " [8, 14, 13],\n",
       " [9, 11, 10],\n",
       " [9, 12, 10],\n",
       " [9, 13, 10],\n",
       " [9, 14, 10],\n",
       " [9, 12, 11],\n",
       " [9, 13, 11],\n",
       " [9, 14, 11],\n",
       " [9, 13, 12],\n",
       " [9, 14, 12],\n",
       " [9, 14, 13],\n",
       " [10, 12, 11],\n",
       " [10, 13, 11],\n",
       " [10, 14, 11],\n",
       " [10, 13, 12],\n",
       " [10, 14, 12],\n",
       " [10, 14, 13],\n",
       " [11, 13, 12],\n",
       " [11, 14, 12],\n",
       " [11, 14, 13],\n",
       " [12, 14, 13]]"
      ]
     },
     "execution_count": 4,
     "metadata": {},
     "output_type": "execute_result"
    }
   ],
   "source": [
    "# # ALL POSSIBLE BONE CONNECTIONS\n",
    "# ALL_POSSIBLE_BONE_CONNECTIONS = []\n",
    "# for b in BONE_CONNECTIONS: ALL_POSSIBLE_BONE_CONNECTIONS.append(b)\n",
    "# for i in range(0,15):\n",
    "#     for j in range(i+1,15):\n",
    "#         for k in range(0,15):\n",
    "\n",
    "#             if k == j or k == i: continue\n",
    "\n",
    "#             found_match = False\n",
    "#             for b in ALL_POSSIBLE_BONE_CONNECTIONS:\n",
    "#                 if i in b and j in b and k in b:\n",
    "#                     found_match = True\n",
    "#                     break\n",
    "            \n",
    "#             if not found_match:\n",
    "#                 ALL_POSSIBLE_BONE_CONNECTIONS.append([i,k,j])\n",
    "\n",
    "# ALL_POSSIBLE_BONE_CONNECTIONS"
   ]
  },
  {
   "cell_type": "code",
   "execution_count": 4,
   "metadata": {},
   "outputs": [
    {
     "name": "stdout",
     "output_type": "stream",
     "text": [
      "['clap', 'swing_baseball', 'pour', 'run', 'wave', 'shoot_gun', 'shoot_ball', 'throw', 'golf', 'brush_hair', 'shoot_bow', 'stand', 'sit', 'climb_stairs', 'jump', 'pullup', 'pick', 'kick_ball', 'walk', 'push', 'catch']\n"
     ]
    }
   ],
   "source": [
    "DRIVE_DIR = \"D:/JHMDB\"\n",
    "\n",
    "JOINT_POSITION_FOLDER = f\"{DRIVE_DIR}/joint_positions/joint_positions\"\n",
    "CLASSES = os.listdir(JOINT_POSITION_FOLDER)\n",
    "#remove some random folders\n",
    "for c in CLASSES: \n",
    "    if c[0] == \".\": CLASSES.remove(c)\n",
    "\n",
    "print(CLASSES)"
   ]
  },
  {
   "cell_type": "code",
   "execution_count": 38,
   "metadata": {},
   "outputs": [
    {
     "name": "stdout",
     "output_type": "stream",
     "text": [
      "clap\n"
     ]
    },
    {
     "data": {
      "application/vnd.jupyter.widget-view+json": {
       "model_id": "9280bfab6de248498a7552a6df5e6dc6",
       "version_major": 2,
       "version_minor": 0
      },
      "text/plain": [
       "  0%|          | 0/46 [00:00<?, ?it/s]"
      ]
     },
     "metadata": {},
     "output_type": "display_data"
    },
    {
     "name": "stdout",
     "output_type": "stream",
     "text": [
      "swing_baseball\n"
     ]
    },
    {
     "data": {
      "application/vnd.jupyter.widget-view+json": {
       "model_id": "c4c82fbec2354a07be571bae14798d03",
       "version_major": 2,
       "version_minor": 0
      },
      "text/plain": [
       "  0%|          | 0/55 [00:00<?, ?it/s]"
      ]
     },
     "metadata": {},
     "output_type": "display_data"
    },
    {
     "name": "stdout",
     "output_type": "stream",
     "text": [
      "pour\n"
     ]
    },
    {
     "data": {
      "application/vnd.jupyter.widget-view+json": {
       "model_id": "2b9b9f78ab774f9fa060b25bd6ad9f3c",
       "version_major": 2,
       "version_minor": 0
      },
      "text/plain": [
       "  0%|          | 0/56 [00:00<?, ?it/s]"
      ]
     },
     "metadata": {},
     "output_type": "display_data"
    },
    {
     "name": "stdout",
     "output_type": "stream",
     "text": [
      "run\n"
     ]
    },
    {
     "data": {
      "application/vnd.jupyter.widget-view+json": {
       "model_id": "90ed00c1201a4a0494caa7beb48d3c90",
       "version_major": 2,
       "version_minor": 0
      },
      "text/plain": [
       "  0%|          | 0/41 [00:00<?, ?it/s]"
      ]
     },
     "metadata": {},
     "output_type": "display_data"
    },
    {
     "name": "stdout",
     "output_type": "stream",
     "text": [
      "wave\n"
     ]
    },
    {
     "data": {
      "application/vnd.jupyter.widget-view+json": {
       "model_id": "77f56e8cb854413ebf9426229fb46882",
       "version_major": 2,
       "version_minor": 0
      },
      "text/plain": [
       "  0%|          | 0/43 [00:00<?, ?it/s]"
      ]
     },
     "metadata": {},
     "output_type": "display_data"
    },
    {
     "name": "stdout",
     "output_type": "stream",
     "text": [
      "shoot_gun\n"
     ]
    },
    {
     "data": {
      "application/vnd.jupyter.widget-view+json": {
       "model_id": "f3c7a29afcf745f191551882bd45c47d",
       "version_major": 2,
       "version_minor": 0
      },
      "text/plain": [
       "  0%|          | 0/56 [00:00<?, ?it/s]"
      ]
     },
     "metadata": {},
     "output_type": "display_data"
    },
    {
     "name": "stdout",
     "output_type": "stream",
     "text": [
      "shoot_ball\n"
     ]
    },
    {
     "data": {
      "application/vnd.jupyter.widget-view+json": {
       "model_id": "61299370d0fa49d0933f3a4f16222087",
       "version_major": 2,
       "version_minor": 0
      },
      "text/plain": [
       "  0%|          | 0/41 [00:00<?, ?it/s]"
      ]
     },
     "metadata": {},
     "output_type": "display_data"
    },
    {
     "name": "stdout",
     "output_type": "stream",
     "text": [
      "throw\n"
     ]
    },
    {
     "data": {
      "application/vnd.jupyter.widget-view+json": {
       "model_id": "41e2556b58284c7da65e84389f27bbc7",
       "version_major": 2,
       "version_minor": 0
      },
      "text/plain": [
       "  0%|          | 0/47 [00:00<?, ?it/s]"
      ]
     },
     "metadata": {},
     "output_type": "display_data"
    },
    {
     "name": "stdout",
     "output_type": "stream",
     "text": [
      "golf\n"
     ]
    },
    {
     "data": {
      "application/vnd.jupyter.widget-view+json": {
       "model_id": "88f6279845a042ed944e781e24c997e3",
       "version_major": 2,
       "version_minor": 0
      },
      "text/plain": [
       "  0%|          | 0/43 [00:00<?, ?it/s]"
      ]
     },
     "metadata": {},
     "output_type": "display_data"
    },
    {
     "name": "stdout",
     "output_type": "stream",
     "text": [
      "brush_hair\n"
     ]
    },
    {
     "data": {
      "application/vnd.jupyter.widget-view+json": {
       "model_id": "ce5238a9863444b0951f09298183b7e9",
       "version_major": 2,
       "version_minor": 0
      },
      "text/plain": [
       "  0%|          | 0/42 [00:00<?, ?it/s]"
      ]
     },
     "metadata": {},
     "output_type": "display_data"
    },
    {
     "name": "stdout",
     "output_type": "stream",
     "text": [
      "shoot_bow\n"
     ]
    },
    {
     "data": {
      "application/vnd.jupyter.widget-view+json": {
       "model_id": "6de5d49914234aa7baa83ea5d3cd4e53",
       "version_major": 2,
       "version_minor": 0
      },
      "text/plain": [
       "  0%|          | 0/54 [00:00<?, ?it/s]"
      ]
     },
     "metadata": {},
     "output_type": "display_data"
    },
    {
     "name": "stdout",
     "output_type": "stream",
     "text": [
      "stand\n"
     ]
    },
    {
     "data": {
      "application/vnd.jupyter.widget-view+json": {
       "model_id": "1c572360c894411882d46b68ef069b81",
       "version_major": 2,
       "version_minor": 0
      },
      "text/plain": [
       "  0%|          | 0/37 [00:00<?, ?it/s]"
      ]
     },
     "metadata": {},
     "output_type": "display_data"
    },
    {
     "name": "stdout",
     "output_type": "stream",
     "text": [
      "sit\n"
     ]
    },
    {
     "data": {
      "application/vnd.jupyter.widget-view+json": {
       "model_id": "85f49c0a9c444a8182c2c261d06d11ee",
       "version_major": 2,
       "version_minor": 0
      },
      "text/plain": [
       "  0%|          | 0/40 [00:00<?, ?it/s]"
      ]
     },
     "metadata": {},
     "output_type": "display_data"
    },
    {
     "name": "stdout",
     "output_type": "stream",
     "text": [
      "climb_stairs\n"
     ]
    },
    {
     "data": {
      "application/vnd.jupyter.widget-view+json": {
       "model_id": "96392f6442b3442cb62a2bacd7d31123",
       "version_major": 2,
       "version_minor": 0
      },
      "text/plain": [
       "  0%|          | 0/41 [00:00<?, ?it/s]"
      ]
     },
     "metadata": {},
     "output_type": "display_data"
    },
    {
     "name": "stdout",
     "output_type": "stream",
     "text": [
      "jump\n"
     ]
    },
    {
     "data": {
      "application/vnd.jupyter.widget-view+json": {
       "model_id": "1fa103ea541e4b6dbab6c6eda3325288",
       "version_major": 2,
       "version_minor": 0
      },
      "text/plain": [
       "  0%|          | 0/40 [00:00<?, ?it/s]"
      ]
     },
     "metadata": {},
     "output_type": "display_data"
    },
    {
     "name": "stdout",
     "output_type": "stream",
     "text": [
      "pullup\n"
     ]
    },
    {
     "data": {
      "application/vnd.jupyter.widget-view+json": {
       "model_id": "2cf217937a1848cabafc791448922f5e",
       "version_major": 2,
       "version_minor": 0
      },
      "text/plain": [
       "  0%|          | 0/56 [00:00<?, ?it/s]"
      ]
     },
     "metadata": {},
     "output_type": "display_data"
    },
    {
     "name": "stdout",
     "output_type": "stream",
     "text": [
      "pick\n"
     ]
    },
    {
     "data": {
      "application/vnd.jupyter.widget-view+json": {
       "model_id": "e65361b3b93844138c1cbc8879f22384",
       "version_major": 2,
       "version_minor": 0
      },
      "text/plain": [
       "  0%|          | 0/41 [00:00<?, ?it/s]"
      ]
     },
     "metadata": {},
     "output_type": "display_data"
    },
    {
     "name": "stdout",
     "output_type": "stream",
     "text": [
      "kick_ball\n"
     ]
    },
    {
     "data": {
      "application/vnd.jupyter.widget-view+json": {
       "model_id": "beaea6ccf99d4540b1c1fc659d501b13",
       "version_major": 2,
       "version_minor": 0
      },
      "text/plain": [
       "  0%|          | 0/38 [00:00<?, ?it/s]"
      ]
     },
     "metadata": {},
     "output_type": "display_data"
    },
    {
     "name": "stdout",
     "output_type": "stream",
     "text": [
      "walk\n"
     ]
    },
    {
     "data": {
      "application/vnd.jupyter.widget-view+json": {
       "model_id": "b287eed359394d829d6d005af68b43ea",
       "version_major": 2,
       "version_minor": 0
      },
      "text/plain": [
       "  0%|          | 0/42 [00:00<?, ?it/s]"
      ]
     },
     "metadata": {},
     "output_type": "display_data"
    },
    {
     "name": "stdout",
     "output_type": "stream",
     "text": [
      "push\n"
     ]
    },
    {
     "data": {
      "application/vnd.jupyter.widget-view+json": {
       "model_id": "c40a2dfea49642c99d063a7c39510ff8",
       "version_major": 2,
       "version_minor": 0
      },
      "text/plain": [
       "  0%|          | 0/43 [00:00<?, ?it/s]"
      ]
     },
     "metadata": {},
     "output_type": "display_data"
    },
    {
     "name": "stdout",
     "output_type": "stream",
     "text": [
      "catch\n"
     ]
    },
    {
     "data": {
      "application/vnd.jupyter.widget-view+json": {
       "model_id": "0039e46d7ab841b7b2b5a097f3d4442e",
       "version_major": 2,
       "version_minor": 0
      },
      "text/plain": [
       "  0%|          | 0/49 [00:00<?, ?it/s]"
      ]
     },
     "metadata": {},
     "output_type": "display_data"
    }
   ],
   "source": [
    "for c in CLASSES:\n",
    "\n",
    "    print(c)\n",
    "\n",
    "    if not os.path.exists(f\"{DRIVE_DIR}/processed_joints_new/{c}\"):\n",
    "        os.mkdir(f\"{DRIVE_DIR}/processed_joints_new/{c}\")\n",
    "\n",
    "    for i in tqdm(os.listdir(f\"{JOINT_POSITION_FOLDER}/{c}\")):\n",
    "        \n",
    "        if i[0] == \".\": continue\n",
    "\n",
    "        joint_positions = scipy.io.loadmat(f\"{JOINT_POSITION_FOLDER}/{c}/{i}/joint_positions.mat\")['pos_img']\n",
    "        \n",
    "        # uncomment this to show some bone plots\n",
    "\n",
    "        # frame0 = f\"{DRIVE_DIR}/Rename_Images/Rename_Images/{c}/{i}/00001.png\"\n",
    "        # plt.imshow(plt.imread(frame0))\n",
    "        # plt.show()\n",
    "        # for c in BONE_CONNECTIONS:\n",
    "        #     # plt.figure(figsize=(15,15))\n",
    "        #     plt.imshow(plt.imread(frame0))\n",
    "        #     print(c)\n",
    "        #     for x in c:\n",
    "        #         plt.scatter(joint_positions[:,:,0][0][x], joint_positions[:,:,0][1][x])\n",
    "        #     plt.show()\n",
    "\n",
    "        bone_angles = []\n",
    "        for j in range(joint_positions.shape[2]):\n",
    "\n",
    "            frame_joint_positions = joint_positions[:,:,j]\n",
    "\n",
    "            # frame_joint_positions[1] = frame_joint_positions[1] * -1\n",
    "\n",
    "            one_frame_bone_angles = []\n",
    "            for bone_connection in BONE_CONNECTIONS:\n",
    "                \n",
    "                j1 = frame_joint_positions[:,bone_connection[0]]\n",
    "                j2 = frame_joint_positions[:,bone_connection[1]]\n",
    "                j3 = frame_joint_positions[:,bone_connection[2]]\n",
    "\n",
    "                bone_vector_1 = [j1[0] - j2[0], (j1[1] - j2[1])*-1]\n",
    "                bone_vector_2 = [j3[0] - j2[0], (j3[1] - j2[1])*-1]\n",
    "\n",
    "                if np.linalg.norm(bone_vector_1) == 0.0 or np.linalg.norm(bone_vector_2) == 0.0:\n",
    "                    one_frame_bone_angles.append(None)\n",
    "                    print(\"bone vector was on origin\")\n",
    "                    continue\n",
    "\n",
    "                bone_unit_vector_1 = bone_vector_1 / np.linalg.norm(bone_vector_1)\n",
    "                bone_unit_vector_2 = bone_vector_2 / np.linalg.norm(bone_vector_2)\n",
    "\n",
    "                bone_angle = math.degrees(math.atan2(bone_unit_vector_1[1], bone_unit_vector_1[0]) - math.atan2(bone_unit_vector_2[1], bone_unit_vector_2[0]))\n",
    "\n",
    "                one_frame_bone_angles.append(bone_angle)\n",
    "\n",
    "            bone_angles.append(one_frame_bone_angles)\n",
    "\n",
    "        bone_angles = np.asarray(bone_angles)\n",
    "\n",
    "        bone_angle_changes = []\n",
    "\n",
    "        for skip in range(1,15):\n",
    "\n",
    "            one_channel_bone_changes = []\n",
    "\n",
    "            for bone_angle_index in range(bone_angles.shape[1]):\n",
    "\n",
    "                one_bone_change = []\n",
    "\n",
    "                for f in range(0, bone_angles.shape[0]-skip, skip):\n",
    "\n",
    "                    one_bone_change.append(bone_angles[f, bone_angle_index] - bone_angles[f+skip, bone_angle_index])\n",
    "                \n",
    "                for _ in range((bone_angles.shape[0] - len(one_bone_change)) - 1):\n",
    "                    one_bone_change.append(0)\n",
    "\n",
    "                one_channel_bone_changes.append(one_bone_change)\n",
    "\n",
    "            bone_angle_changes.append(one_channel_bone_changes)\n",
    "\n",
    "        # bone_angle_changes = np.asarray(bone_angle_changes)\n",
    "        \n",
    "        # print(np.asarray(bone_angle_changes).shape)\n",
    "\n",
    "        # print(bone_angle_changes)\n",
    "        # print(bone_angles.shape)\n",
    "        # channel_first_data = []\n",
    "        # for j in range(bone_angle_changes.shape[2]):\n",
    "        #     channel_first_data.append(bone_angle_changes[:,:,j])\n",
    "        # channel_first_data = np.asarray(channel_first_data)\n",
    "        # print(bone_angle_changes[:,0,1])\n",
    "        # print(bone_angles[:,0])\n",
    "\n",
    "        # print(channel_first_data.shape)\n",
    "        # print(channel_first_data[0].shape)\n",
    "        # print(channel_first_data[0][0])\n",
    "        # plt.imshow(bone_angle_changes[0,0])\n",
    "\n",
    "        with open(f\"{DRIVE_DIR}/processed_joints_new/{c}/{i}.json\", 'w') as f:\n",
    "            json.dump(bone_angle_changes, f)"
   ]
  },
  {
   "attachments": {},
   "cell_type": "markdown",
   "metadata": {},
   "source": [
    "# YOLOv8 Pose"
   ]
  },
  {
   "cell_type": "code",
   "execution_count": 21,
   "metadata": {},
   "outputs": [
    {
     "name": "stderr",
     "output_type": "stream",
     "text": [
      "100%|██████████| 31223/31223 [00:02<00:00, 11831.18it/s]\n"
     ]
    }
   ],
   "source": [
    "two_person = 0\n",
    "one_person = 0\n",
    "no_person = 0\n",
    "for i in tqdm(os.listdir(R\"D:\\JHMDB\\JHMDB_video\\predict4\\labels\")):\n",
    "    with open(Rf\"D:\\JHMDB\\JHMDB_video\\predict4\\labels\\{i}\") as f:\n",
    "        annotations = f.read().splitlines()\n",
    "\n",
    "        if len(annotations) == 0: no_person += 1\n",
    "        if len(annotations) == 1: one_person += 1\n",
    "        if len(annotations) > 1: two_person += 1"
   ]
  },
  {
   "cell_type": "code",
   "execution_count": 55,
   "metadata": {},
   "outputs": [
    {
     "data": {
      "application/vnd.jupyter.widget-view+json": {
       "model_id": "7ae78377faa7438fa351741eaaee192e",
       "version_major": 2,
       "version_minor": 0
      },
      "text/plain": [
       "  0%|          | 0/928 [00:00<?, ?it/s]"
      ]
     },
     "metadata": {},
     "output_type": "display_data"
    },
    {
     "name": "stdout",
     "output_type": "stream",
     "text": [
      "D:\\JHMDB\\JHMDB_video\\predict4\\Alexander_pushing_the_table_push_f_cm_np1_le_bad_0.mp4\n",
      "['0', '0.578125', '0.595833', '0.44375', '0.666667', '0.495486', '0.381627', '0.504413', '0.37448', '0.506271', '0.365154', '0.545595', '0.397003', '0.556207', '0.367445', '0.542434', '0.48014', '0.590412', '0.433143', '0.422086', '0.503976', '0.539464', '0.426212', '0.386648', '0.481701', '0.485722', '0.401215', '0.665391', '0.659679', '0.675866', '0.647866', '0.700935', '0.748222', '0.636077', '0.708297', '0.751847', '0.839688', '0.629298', '0.806068']\n",
      "39\n",
      "['0', '0.907812', '0.5', '0.184375', '1', '0.86949', '0.128401', '0.869984', '0.0935959', '0.8685', '0.0954963', '0.9343', '0.0616893', '0.932109', '0.0656297', '1', '0.191781', '0.988459', '0.173432', '0.997678', '0.425804', '0.991813', '0.385438', '0.940375', '0.630933', '0.93031', '0.548945', '1', '0.598693', '1', '0.584471', '0.982916', '0.82101', '0.998041', '0.807659', '0.976133', '0.83628', '0.966876', '0.871529']\n",
      "39\n"
     ]
    }
   ],
   "source": [
    "for i in tqdm(glob.glob(R\"D:\\JHMDB\\JHMDB_video\\predict4\\*.mp4\")):\n",
    "\n",
    "    print(i)\n",
    "\n",
    "    annotations = []\n",
    "\n",
    "    f_name = i.split(\"\\\\\")[-1][:-4]\n",
    "    annotation_files = glob.glob(f\"D:\\JHMDB\\JHMDB_video\\predict4\\labels\\{f_name}*\")\n",
    "    for a in sorted(annotation_files, key=lambda x: int(x[:-4].split(\"_\")[-1])):\n",
    "\n",
    "        with open(a) as f:\n",
    "            annotations.append(f.read().splitlines())\n",
    "\n",
    "    people = {}\n",
    "\n",
    "    for p in range(len(annotations[0])):\n",
    "        people[p] = annotations[0][p]\n",
    "\n",
    "    for a in annotations[1:]:\n",
    "\n",
    "        for p in a:\n",
    "            print(p.split(\" \"))\n",
    "            print(len(p.split(\" \")))\n",
    "        break\n",
    "    break"
   ]
  }
 ],
 "metadata": {
  "kernelspec": {
   "display_name": "Python 3.6.7 ('venv': venv)",
   "language": "python",
   "name": "python3"
  },
  "language_info": {
   "codemirror_mode": {
    "name": "ipython",
    "version": 3
   },
   "file_extension": ".py",
   "mimetype": "text/x-python",
   "name": "python",
   "nbconvert_exporter": "python",
   "pygments_lexer": "ipython3",
   "version": "3.10.11"
  },
  "orig_nbformat": 4,
  "vscode": {
   "interpreter": {
    "hash": "78459e25ea7cd5db60d9ef8d78053b59bce0138b05a7524b7e8329602c688bcb"
   }
  }
 },
 "nbformat": 4,
 "nbformat_minor": 2
}
