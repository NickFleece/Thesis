{
 "cells": [
  {
   "cell_type": "code",
   "execution_count": 5,
   "metadata": {},
   "outputs": [],
   "source": [
    "import glob\n",
    "import os\n",
    "import cv2\n",
    "import numpy as np\n",
    "from tqdm import tqdm\n",
    "import torch"
   ]
  },
  {
   "cell_type": "code",
   "execution_count": 11,
   "metadata": {},
   "outputs": [],
   "source": [
    "# VIDEO_DIR = \"/media/nick/Thesis/JHMDB/JHMDB_video/ReCompress_Videos\"\n",
    "# EXPORT_DIR = \"/media/nick/Thesis/JHMDB/JHMDB_video/Frames\"\n",
    "VIDEO_DIR = \"D:/JHMDB/JHMDB_video/ReCompress_Videos\"\n",
    "EXPORT_DIR = \"D:/JHMDB/JHMDB_video/Frames\""
   ]
  },
  {
   "cell_type": "code",
   "execution_count": 15,
   "metadata": {},
   "outputs": [
    {
     "name": "stderr",
     "output_type": "stream",
     "text": [
      "100%|██████████| 928/928 [06:01<00:00,  2.57it/s]\n"
     ]
    }
   ],
   "source": [
    "for video in tqdm(glob.glob(f\"{VIDEO_DIR}/*/*.avi\")):\n",
    "    split_video = video.split(\"\\\\\")\n",
    "\n",
    "    c = split_video[-2]\n",
    "    v = split_video[-1]\n",
    "\n",
    "    vidcap = cv2.VideoCapture(video)\n",
    "    success, image = vidcap.read()\n",
    "\n",
    "    video_array = []\n",
    "\n",
    "    if not os.path.exists(f\"{EXPORT_DIR}/{c}\"): os.mkdir(f\"{EXPORT_DIR}/{c}\")\n",
    "    if not os.path.exists(f\"{EXPORT_DIR}/{c}/{v}\"): os.mkdir(f\"{EXPORT_DIR}/{c}/{v}\")\n",
    "\n",
    "    count = 0\n",
    "\n",
    "    while success:\n",
    "        # video_array.append(image)\n",
    "\n",
    "        cv2.imwrite(f\"{EXPORT_DIR}/{c}/{v}/{str(count).zfill(4)}.png\", image)\n",
    "\n",
    "        count += 1\n",
    "        success, image = vidcap.read()\n",
    "\n",
    "    # break\n",
    "    # print(np.asarray(video_array).shape)"
   ]
  },
  {
   "cell_type": "code",
   "execution_count": 4,
   "metadata": {},
   "outputs": [],
   "source": [
    "import pytorch_i3d"
   ]
  },
  {
   "cell_type": "code",
   "execution_count": 5,
   "metadata": {},
   "outputs": [],
   "source": [
    "i3d = pytorch_i3d.InceptionI3d(num_classes=40)"
   ]
  },
  {
   "cell_type": "code",
   "execution_count": 6,
   "metadata": {},
   "outputs": [
    {
     "data": {
      "text/plain": [
       "(40, 240, 320, 3)"
      ]
     },
     "execution_count": 6,
     "metadata": {},
     "output_type": "execute_result"
    }
   ],
   "source": [
    "np.asarray(video_array).shape"
   ]
  },
  {
   "cell_type": "code",
   "execution_count": 7,
   "metadata": {},
   "outputs": [
    {
     "data": {
      "text/plain": [
       "(3, 40, 240, 320)"
      ]
     },
     "execution_count": 7,
     "metadata": {},
     "output_type": "execute_result"
    }
   ],
   "source": [
    "channel_first_video = []\n",
    "for channel in range(np.asarray(video_array).shape[3]):\n",
    "    channel_first_video.append(np.asarray(video_array)[:,:,:,channel])\n",
    "np.asarray(channel_first_video).shape"
   ]
  },
  {
   "cell_type": "code",
   "execution_count": 8,
   "metadata": {},
   "outputs": [
    {
     "data": {
      "text/plain": [
       "torch.Size([1, 40, 4, 2, 4])"
      ]
     },
     "execution_count": 8,
     "metadata": {},
     "output_type": "execute_result"
    }
   ],
   "source": [
    "out = i3d(torch.from_numpy(np.asarray([channel_first_video])).float())\n",
    "out.shape"
   ]
  },
  {
   "cell_type": "code",
   "execution_count": 9,
   "metadata": {},
   "outputs": [
    {
     "data": {
      "text/plain": [
       "torch.Size([1, 1280])"
      ]
     },
     "execution_count": 9,
     "metadata": {},
     "output_type": "execute_result"
    }
   ],
   "source": [
    "f = torch.nn.Flatten()\n",
    "f(out).shape"
   ]
  }
 ],
 "metadata": {
  "kernelspec": {
   "display_name": "thesis",
   "language": "python",
   "name": "python3"
  },
  "language_info": {
   "codemirror_mode": {
    "name": "ipython",
    "version": 3
   },
   "file_extension": ".py",
   "mimetype": "text/x-python",
   "name": "python",
   "nbconvert_exporter": "python",
   "pygments_lexer": "ipython3",
   "version": "3.11.4"
  },
  "orig_nbformat": 4
 },
 "nbformat": 4,
 "nbformat_minor": 2
}
