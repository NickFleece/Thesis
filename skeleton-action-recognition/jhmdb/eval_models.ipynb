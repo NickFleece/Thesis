{
 "cells": [
  {
   "cell_type": "code",
   "execution_count": 1,
   "metadata": {},
   "outputs": [],
   "source": [
    "import pandas as pd\n",
    "import torch\n",
    "import os\n",
    "from sklearn.metrics import accuracy_score\n",
    "from tqdm import tqdm\n",
    "import matplotlib.pyplot as plt\n",
    "\n",
    "result_dir = \"H:/JHMDB/models\""
   ]
  },
  {
   "attachments": {},
   "cell_type": "markdown",
   "metadata": {},
   "source": [
    "# all models"
   ]
  },
  {
   "cell_type": "code",
   "execution_count": 7,
   "metadata": {},
   "outputs": [
    {
     "name": "stdout",
     "output_type": "stream",
     "text": [
      "m_4.4\n"
     ]
    },
    {
     "name": "stderr",
     "output_type": "stream",
     "text": [
      "100%|██████████| 85/85 [00:01<00:00, 83.72it/s]\n"
     ]
    },
    {
     "name": "stdout",
     "output_type": "stream",
     "text": [
      "0.17164179104477612\n",
      "0.6666666666666666\n",
      "m_4.6\n"
     ]
    },
    {
     "name": "stderr",
     "output_type": "stream",
     "text": [
      "100%|██████████| 101/101 [00:01<00:00, 71.36it/s]\n"
     ]
    },
    {
     "name": "stdout",
     "output_type": "stream",
     "text": [
      "0.19402985074626866\n",
      "0.8598484848484849\n",
      "m_4.7\n"
     ]
    },
    {
     "name": "stderr",
     "output_type": "stream",
     "text": [
      "100%|██████████| 76/76 [00:00<00:00, 79.25it/s]\n"
     ]
    },
    {
     "name": "stdout",
     "output_type": "stream",
     "text": [
      "0.09328358208955224\n",
      "0.16818181818181818\n",
      "m_4.8\n"
     ]
    },
    {
     "name": "stderr",
     "output_type": "stream",
     "text": [
      "100%|██████████| 301/301 [00:04<00:00, 65.98it/s]\n"
     ]
    },
    {
     "name": "stdout",
     "output_type": "stream",
     "text": [
      "0.17537313432835822\n",
      "0.7181818181818181\n",
      "m_4.9\n"
     ]
    },
    {
     "name": "stderr",
     "output_type": "stream",
     "text": [
      "100%|██████████| 301/301 [00:04<00:00, 66.57it/s]\n"
     ]
    },
    {
     "name": "stdout",
     "output_type": "stream",
     "text": [
      "0.1791044776119403\n",
      "0.9181818181818182\n",
      "m_4.10\n"
     ]
    },
    {
     "name": "stderr",
     "output_type": "stream",
     "text": [
      "100%|██████████| 301/301 [00:04<00:00, 66.08it/s]\n"
     ]
    },
    {
     "name": "stdout",
     "output_type": "stream",
     "text": [
      "0.14925373134328357\n",
      "0.5583333333333333\n",
      "m_4.11\n"
     ]
    },
    {
     "name": "stderr",
     "output_type": "stream",
     "text": [
      "100%|██████████| 301/301 [00:04<00:00, 74.74it/s]\n"
     ]
    },
    {
     "name": "stdout",
     "output_type": "stream",
     "text": [
      "0.16044776119402984\n",
      "0.6272727272727273\n",
      "m_4.9.2\n"
     ]
    },
    {
     "name": "stderr",
     "output_type": "stream",
     "text": [
      "100%|██████████| 300/300 [00:04<00:00, 66.89it/s]\n"
     ]
    },
    {
     "name": "stdout",
     "output_type": "stream",
     "text": [
      "0.17537313432835822\n",
      "0.7643939393939394\n",
      "m_4.9.3\n"
     ]
    },
    {
     "name": "stderr",
     "output_type": "stream",
     "text": [
      "100%|██████████| 301/301 [00:04<00:00, 71.61it/s]\n"
     ]
    },
    {
     "name": "stdout",
     "output_type": "stream",
     "text": [
      "0.22014925373134328\n",
      "0.9424242424242424\n",
      "m_4.9.4\n"
     ]
    },
    {
     "name": "stderr",
     "output_type": "stream",
     "text": [
      "100%|██████████| 301/301 [00:04<00:00, 69.21it/s]\n"
     ]
    },
    {
     "name": "stdout",
     "output_type": "stream",
     "text": [
      "0.1417910447761194\n",
      "0.7825757575757576\n",
      "m_4.9.5\n"
     ]
    },
    {
     "name": "stderr",
     "output_type": "stream",
     "text": [
      "100%|██████████| 231/231 [00:03<00:00, 72.86it/s]\n"
     ]
    },
    {
     "name": "stdout",
     "output_type": "stream",
     "text": [
      "0.13432835820895522\n",
      "0.5227272727272727\n",
      "m_4.9.6\n"
     ]
    },
    {
     "name": "stderr",
     "output_type": "stream",
     "text": [
      "100%|██████████| 160/160 [00:02<00:00, 73.93it/s]\n"
     ]
    },
    {
     "name": "stdout",
     "output_type": "stream",
     "text": [
      "0.1865671641791045\n",
      "0.8568181818181818\n",
      "m_4.9.7\n"
     ]
    },
    {
     "name": "stderr",
     "output_type": "stream",
     "text": [
      "100%|██████████| 301/301 [00:01<00:00, 213.65it/s]"
     ]
    },
    {
     "name": "stdout",
     "output_type": "stream",
     "text": [
      "0.2126865671641791\n",
      "0.9454545454545454\n",
      "m_4.7 - 0.09328358208955224\n",
      "m_4.9.5 - 0.13432835820895522\n",
      "m_4.9.4 - 0.1417910447761194\n",
      "m_4.10 - 0.14925373134328357\n",
      "m_4.11 - 0.16044776119402984\n",
      "m_4.4 - 0.17164179104477612\n",
      "m_4.8 - 0.17537313432835822\n",
      "m_4.9.2 - 0.17537313432835822\n",
      "m_4.9 - 0.1791044776119403\n",
      "m_4.9.6 - 0.1865671641791045\n",
      "m_4.6 - 0.19402985074626866\n",
      "m_4.9.7 - 0.2126865671641791\n",
      "m_4.9.3 - 0.22014925373134328\n"
     ]
    },
    {
     "name": "stderr",
     "output_type": "stream",
     "text": [
      "\n"
     ]
    }
   ],
   "source": [
    "results = {}\n",
    "for m in os.listdir(f\"{result_dir}\"):\n",
    "\n",
    "    print(m)\n",
    "\n",
    "    max_acc = 0\n",
    "    max_train_acc = 0\n",
    "\n",
    "    for e in tqdm(os.listdir(f\"{result_dir}/{m}\")):\n",
    "\n",
    "        if e == 'model': continue\n",
    "\n",
    "        res = torch.load(f\"{result_dir}/{m}/{e}\", map_location=torch.device('cpu'))\n",
    "        acc = accuracy_score(res['val_actual'], res['val_predicted'])\n",
    "        train_acc = accuracy_score(res['train_actual'], res['train_predicted'])\n",
    "\n",
    "        if acc > max_acc: max_acc = acc\n",
    "        if train_acc > max_train_acc: max_train_acc = train_acc\n",
    "\n",
    "    results[m] = max_acc\n",
    "\n",
    "    print(max_acc)\n",
    "    print(max_train_acc)\n",
    "\n",
    "s = {k: v for k, v in sorted(results.items(), key=lambda item: item[1])}\n",
    "for k in s.keys():\n",
    "    print(f\"{k} - {s[k]}\")"
   ]
  },
  {
   "attachments": {},
   "cell_type": "markdown",
   "metadata": {},
   "source": [
    "# one model"
   ]
  },
  {
   "cell_type": "code",
   "execution_count": 22,
   "metadata": {},
   "outputs": [
    {
     "name": "stderr",
     "output_type": "stream",
     "text": [
      "100%|██████████| 301/301 [00:04<00:00, 74.00it/s]\n"
     ]
    }
   ],
   "source": [
    "#Change this to the version you want\n",
    "VERSION = \"4.9.9\"\n",
    "\n",
    "model_path = f\"{result_dir}/m_{VERSION}\"\n",
    "\n",
    "training_accs = []\n",
    "testing_accs = []\n",
    "\n",
    "for e in tqdm(os.listdir(model_path)):\n",
    "\n",
    "    if e == 'model' : continue\n",
    "\n",
    "    res = torch.load(f\"{model_path}/{e}\", map_location=torch.device('cpu'))\n",
    "\n",
    "    training_accs.append(accuracy_score(res['train_actual'], res['train_predicted']))\n",
    "    testing_accs.append(accuracy_score(res['val_actual'], res['val_predicted']))"
   ]
  },
  {
   "cell_type": "code",
   "execution_count": 23,
   "metadata": {},
   "outputs": [
    {
     "data": {
      "text/plain": [
       "[<matplotlib.lines.Line2D at 0x19575439470>]"
      ]
     },
     "execution_count": 23,
     "metadata": {},
     "output_type": "execute_result"
    },
    {
     "data": {
      "image/png": "[encoded data removed]",
      "text/plain": [
       "<Figure size 432x288 with 1 Axes>"
      ]
     },
     "metadata": {
      "needs_background": "light"
     },
     "output_type": "display_data"
    }
   ],
   "source": [
    "plt.ylim(0,1)\n",
    "plt.plot(range(len(training_accs)), training_accs)\n",
    "plt.plot(range(len(testing_accs)), testing_accs)"
   ]
  },
  {
   "cell_type": "code",
   "execution_count": 24,
   "metadata": {},
   "outputs": [
    {
     "data": {
      "text/plain": [
       "0.22014925373134328"
      ]
     },
     "execution_count": 24,
     "metadata": {},
     "output_type": "execute_result"
    }
   ],
   "source": [
    "max(testing_accs)"
   ]
  }
 ],
 "metadata": {
  "kernelspec": {
   "display_name": "Python 3.6.7 ('venv': venv)",
   "language": "python",
   "name": "python3"
  },
  "language_info": {
   "codemirror_mode": {
    "name": "ipython",
    "version": 3
   },
   "file_extension": ".py",
   "mimetype": "text/x-python",
   "name": "python",
   "nbconvert_exporter": "python",
   "pygments_lexer": "ipython3",
   "version": "3.6.7"
  },
  "orig_nbformat": 4,
  "vscode": {
   "interpreter": {
    "hash": "78459e25ea7cd5db60d9ef8d78053b59bce0138b05a7524b7e8329602c688bcb"
   }
  }
 },
 "nbformat": 4,
 "nbformat_minor": 2
}
