{
 "cells": [
  {
   "cell_type": "code",
   "execution_count": 2,
   "metadata": {},
   "outputs": [],
   "source": [
    "import pandas as pd\n",
    "import torch\n",
    "import os\n",
    "from sklearn.metrics import accuracy_score, confusion_matrix\n",
    "from tqdm import tqdm\n",
    "import matplotlib.pyplot as plt\n",
    "\n",
    "result_dir = \"H:/JHMDB/models\""
   ]
  },
  {
   "attachments": {},
   "cell_type": "markdown",
   "metadata": {},
   "source": [
    "# all models"
   ]
  },
  {
   "cell_type": "code",
   "execution_count": 7,
   "metadata": {},
   "outputs": [
    {
     "name": "stderr",
     "output_type": "stream",
     "text": [
      "100%|██████████| 30/30 [01:13<00:00,  2.45s/it]"
     ]
    },
    {
     "name": "stdout",
     "output_type": "stream",
     "text": [
      "m_test - 0\n",
      "m_4.7 - 0.09328358208955224\n",
      "m_5.10 - 0.1044776119402985\n",
      "m_5.5 - 0.11567164179104478\n",
      "m_5.8 - 0.11567164179104478\n",
      "m_5.6 - 0.12313432835820895\n",
      "m_4.9.5 - 0.13432835820895522\n",
      "m_5.7 - 0.13432835820895522\n",
      "m_4.9.10 - 0.13805970149253732\n",
      "m_5.3 - 0.13805970149253732\n",
      "m_4.9.4 - 0.1417910447761194\n",
      "m_4.10 - 0.14925373134328357\n",
      "m_5.9 - 0.14925373134328357\n",
      "m_4.11 - 0.16044776119402984\n",
      "m_4.9.8 - 0.16044776119402984\n",
      "m_4.9.9 - 0.16791044776119404\n",
      "m_4.4 - 0.17164179104477612\n",
      "m_4.8 - 0.17537313432835822\n",
      "m_4.9.2 - 0.17537313432835822\n",
      "m_4.9 - 0.1791044776119403\n",
      "m_4.9.12 - 0.1828358208955224\n",
      "m_4.9.6 - 0.1865671641791045\n",
      "m_5.1 - 0.1865671641791045\n",
      "m_4.6 - 0.19402985074626866\n",
      "m_4.9.11 - 0.19776119402985073\n",
      "m_5.0 - 0.20149253731343283\n",
      "m_5.4 - 0.20149253731343283\n",
      "m_5.2 - 0.20522388059701493\n",
      "m_4.9.7 - 0.2126865671641791\n",
      "m_4.9.3 - 0.22014925373134328\n"
     ]
    },
    {
     "name": "stderr",
     "output_type": "stream",
     "text": [
      "\n"
     ]
    }
   ],
   "source": [
    "results = {}\n",
    "for m in tqdm(os.listdir(f\"{result_dir}\")):\n",
    "\n",
    "    # print(m)\n",
    "\n",
    "    max_acc = 0\n",
    "    max_train_acc = 0\n",
    "\n",
    "    for e in os.listdir(f\"{result_dir}/{m}\"):\n",
    "\n",
    "        if e == 'model': continue\n",
    "\n",
    "        res = torch.load(f\"{result_dir}/{m}/{e}\", map_location=torch.device('cpu'))\n",
    "        acc = accuracy_score(res['val_actual'], res['val_predicted'])\n",
    "        train_acc = accuracy_score(res['train_actual'], res['train_predicted'])\n",
    "\n",
    "        if acc > max_acc: max_acc = acc\n",
    "        if train_acc > max_train_acc: max_train_acc = train_acc\n",
    "\n",
    "    results[m] = max_acc\n",
    "\n",
    "    # print(max_acc)\n",
    "    # print(max_train_acc)\n",
    "\n",
    "s = {k: v for k, v in sorted(results.items(), key=lambda item: item[1])}\n",
    "for k in s.keys():\n",
    "    print(f\"{k} - {s[k]}\")"
   ]
  },
  {
   "attachments": {},
   "cell_type": "markdown",
   "metadata": {},
   "source": [
    "# one model"
   ]
  },
  {
   "cell_type": "code",
   "execution_count": 8,
   "metadata": {},
   "outputs": [
    {
     "name": "stderr",
     "output_type": "stream",
     "text": [
      "100%|██████████| 70/70 [00:01<00:00, 66.29it/s]\n"
     ]
    }
   ],
   "source": [
    "#Change this to the version you want\n",
    "VERSION = \"5.4.1\"\n",
    "\n",
    "model_path = f\"{result_dir}/m_{VERSION}\"\n",
    "\n",
    "training_accs = []\n",
    "testing_accs = []\n",
    "\n",
    "max_testing_acc = 0\n",
    "\n",
    "for e in tqdm(os.listdir(model_path)):\n",
    "\n",
    "    if e == 'model' : continue\n",
    "\n",
    "    res = torch.load(f\"{model_path}/{e}\", map_location=torch.device('cpu'))\n",
    "\n",
    "    training_accs.append(accuracy_score(res['train_actual'], res['train_predicted']))\n",
    "    testing_accs.append(accuracy_score(res['val_actual'], res['val_predicted']))\n",
    "\n",
    "    if accuracy_score(res['val_actual'], res['val_predicted']) > max_testing_acc:\n",
    "        max_conf_matrix = confusion_matrix(res['val_actual'], res['val_predicted'])"
   ]
  },
  {
   "cell_type": "code",
   "execution_count": 9,
   "metadata": {},
   "outputs": [
    {
     "data": {
      "text/plain": [
       "[<matplotlib.lines.Line2D at 0x24a0d5d6048>]"
      ]
     },
     "execution_count": 9,
     "metadata": {},
     "output_type": "execute_result"
    },
    {
     "data": {
      "image/png": "[encoded data removed]",
      "text/plain": [
       "<Figure size 432x288 with 1 Axes>"
      ]
     },
     "metadata": {
      "needs_background": "light"
     },
     "output_type": "display_data"
    }
   ],
   "source": [
    "plt.ylim(0,1)\n",
    "plt.plot(range(len(training_accs)), training_accs)\n",
    "plt.plot(range(len(testing_accs)), testing_accs)"
   ]
  },
  {
   "cell_type": "code",
   "execution_count": 60,
   "metadata": {},
   "outputs": [
    {
     "data": {
      "text/plain": [
       "0.13805970149253732"
      ]
     },
     "execution_count": 60,
     "metadata": {},
     "output_type": "execute_result"
    }
   ],
   "source": [
    "max(testing_accs)"
   ]
  },
  {
   "cell_type": "code",
   "execution_count": 38,
   "metadata": {},
   "outputs": [
    {
     "data": {
      "text/plain": [
       "array([[0, 0, 1, 0, 6, 0, 0, 0, 0, 0, 1, 0, 1, 1, 1, 1, 0, 0, 0, 0, 1],\n",
       "       [1, 2, 0, 0, 0, 0, 0, 0, 0, 0, 1, 0, 0, 3, 2, 1, 2, 0, 0, 2, 1],\n",
       "       [0, 1, 2, 0, 2, 1, 0, 0, 0, 0, 3, 2, 0, 0, 1, 0, 0, 0, 2, 0, 2],\n",
       "       [0, 0, 0, 0, 1, 1, 1, 0, 0, 0, 0, 0, 0, 0, 4, 1, 2, 0, 0, 1, 0],\n",
       "       [1, 0, 1, 1, 2, 0, 0, 0, 0, 0, 1, 0, 0, 0, 2, 0, 1, 0, 1, 0, 2],\n",
       "       [0, 1, 0, 0, 3, 2, 0, 0, 0, 0, 0, 0, 0, 0, 2, 0, 4, 0, 2, 0, 2],\n",
       "       [0, 3, 0, 0, 2, 0, 2, 0, 0, 0, 1, 0, 0, 0, 2, 0, 0, 0, 0, 1, 0],\n",
       "       [0, 0, 0, 0, 2, 0, 0, 1, 0, 0, 1, 0, 0, 1, 0, 0, 3, 0, 1, 2, 0],\n",
       "       [0, 0, 0, 0, 0, 0, 0, 0, 7, 0, 2, 0, 0, 0, 0, 3, 0, 0, 0, 0, 0],\n",
       "       [0, 0, 1, 0, 1, 1, 1, 1, 0, 0, 2, 0, 0, 1, 1, 1, 1, 0, 1, 0, 0],\n",
       "       [0, 2, 0, 0, 1, 0, 0, 0, 0, 0, 7, 0, 0, 1, 0, 0, 1, 0, 1, 0, 2],\n",
       "       [0, 1, 1, 0, 1, 0, 0, 0, 0, 0, 0, 3, 0, 0, 1, 1, 2, 0, 0, 0, 1],\n",
       "       [0, 0, 0, 0, 1, 0, 0, 0, 0, 0, 0, 1, 1, 0, 2, 1, 4, 1, 1, 0, 0],\n",
       "       [1, 0, 0, 0, 2, 0, 0, 0, 0, 0, 1, 0, 0, 1, 4, 0, 2, 0, 1, 0, 0],\n",
       "       [0, 3, 0, 0, 1, 0, 0, 0, 0, 0, 0, 0, 1, 0, 4, 0, 2, 0, 0, 0, 1],\n",
       "       [0, 1, 0, 0, 0, 0, 0, 0, 0, 0, 0, 0, 0, 1, 3, 6, 1, 0, 2, 2, 0],\n",
       "       [0, 1, 0, 0, 2, 0, 0, 0, 0, 0, 1, 1, 0, 1, 0, 1, 5, 0, 0, 0, 0],\n",
       "       [0, 0, 0, 0, 1, 0, 0, 0, 0, 0, 0, 0, 0, 0, 5, 0, 3, 1, 1, 0, 0],\n",
       "       [1, 1, 0, 1, 1, 0, 1, 0, 0, 0, 1, 1, 0, 0, 1, 2, 0, 0, 1, 0, 1],\n",
       "       [1, 2, 0, 0, 0, 0, 0, 0, 0, 0, 2, 1, 0, 1, 0, 2, 2, 0, 0, 0, 1],\n",
       "       [0, 0, 0, 2, 5, 0, 1, 1, 0, 0, 0, 0, 0, 1, 2, 0, 1, 0, 0, 0, 1]],\n",
       "      dtype=int64)"
      ]
     },
     "execution_count": 38,
     "metadata": {},
     "output_type": "execute_result"
    }
   ],
   "source": [
    "max_conf_matrix"
   ]
  }
 ],
 "metadata": {
  "kernelspec": {
   "display_name": "Python 3.6.7 ('venv': venv)",
   "language": "python",
   "name": "python3"
  },
  "language_info": {
   "codemirror_mode": {
    "name": "ipython",
    "version": 3
   },
   "file_extension": ".py",
   "mimetype": "text/x-python",
   "name": "python",
   "nbconvert_exporter": "python",
   "pygments_lexer": "ipython3",
   "version": "3.6.7"
  },
  "orig_nbformat": 4,
  "vscode": {
   "interpreter": {
    "hash": "78459e25ea7cd5db60d9ef8d78053b59bce0138b05a7524b7e8329602c688bcb"
   }
  }
 },
 "nbformat": 4,
 "nbformat_minor": 2
}
