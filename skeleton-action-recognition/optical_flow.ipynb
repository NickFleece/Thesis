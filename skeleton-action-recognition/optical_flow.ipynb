{
 "cells": [
  {
   "cell_type": "code",
   "execution_count": 1,
   "metadata": {},
   "outputs": [],
   "source": [
    "import numpy as np\n",
    "import cv2 as cv"
   ]
  },
  {
   "cell_type": "code",
   "execution_count": 3,
   "metadata": {},
   "outputs": [],
   "source": [
    "frame1 = cv.imread(r\"C:\\Users\\Nick\\Desktop\\School\\Rename_Images\\Rename_Images\\golf\\Morgan_Pressel_golf_f_cm_np1_ri_goo_0\\00011.png\")\n",
    "frame2 = cv.imread(r\"C:\\Users\\Nick\\Desktop\\School\\Rename_Images\\Rename_Images\\golf\\Morgan_Pressel_golf_f_cm_np1_ri_goo_0\\00021.png\")\n",
    "\n",
    "prvs = cv.cvtColor(frame1, cv.COLOR_BGR2GRAY)\n",
    "hsv = np.zeros_like(frame1)\n",
    "hsv[..., 1] = 255\n",
    "next = cv.cvtColor(frame2, cv.COLOR_BGR2GRAY)\n",
    "flow = cv.calcOpticalFlowFarneback(prvs, next, None, 0.5, 3, 15, 3, 5, 1.2, 0)\n",
    "mag, ang = cv.cartToPolar(flow[..., 0], flow[..., 1])\n",
    "hsv[..., 0] = ang*180/np.pi/2\n",
    "hsv[..., 2] = cv.normalize(mag, None, 0, 255, cv.NORM_MINMAX)\n",
    "bgr = cv.cvtColor(hsv, cv.COLOR_HSV2BGR)\n",
    "\n",
    "cv.imwrite('opticalfb.png', frame2)\n",
    "cv.imwrite('opticalhsv.png', bgr)\n",
    "prvs = next"
   ]
  }
 ],
 "metadata": {
  "kernelspec": {
   "display_name": "Thesis",
   "language": "python",
   "name": "python3"
  },
  "language_info": {
   "codemirror_mode": {
    "name": "ipython",
    "version": 3
   },
   "file_extension": ".py",
   "mimetype": "text/x-python",
   "name": "python",
   "nbconvert_exporter": "python",
   "pygments_lexer": "ipython3",
   "version": "3.10.11"
  }
 },
 "nbformat": 4,
 "nbformat_minor": 2
}
